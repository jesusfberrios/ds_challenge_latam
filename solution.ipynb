{
 "cells": [
  {
   "cell_type": "markdown",
   "metadata": {},
   "source": [
    "# Data Scientist Challenge - LATAM Airlines\n",
    "## Jesús Berríos\n",
    "## Globant Data Scientist\n",
    "---\n",
    "\n",
    "Problema:\n",
    "\n",
    "El problema consiste en predecir la probabilidad de atraso de los vuelos que aterrizan o despegan del aeropuerto de Santiago de\n",
    "Chile (SCL).\n",
    "\n",
    "* **Fecha-I** : Fecha y hora programada del vuelo.\n",
    "* **Vlo-I** : Número de vuelo programado.\n",
    "* **Ori-I** : Código de ciudad de origen programado.\n",
    "* **Des-I** : Código de ciudad de destino programado.\n",
    "* **Emp-I** : Código aerolínea de vuelo programado.\n",
    "* **Fecha-O** : Fecha y hora de operación del vuelo.\n",
    "* **Vlo-O** : Número de vuelo de operación del vuelo.\n",
    "* **Ori-O** : Código de ciudad de origen de operación\n",
    "* **Des-O** : Código de ciudad de destino de operación.\n",
    "* **Emp-O** : Código aerolínea de vuelo operado.\n",
    "* **DIA** : Día del mes de operación del vuelo.\n",
    "* **MES** : Número de mes de operación del vuelo.\n",
    "* **AÑO** : Año de operación del vuelo.\n",
    "* **DIANOM** : Día de la semana de operación del vuelo.\n",
    "* **TIPOVUELO** : Tipo de vuelo, I =Internacional, N =Nacional.\n",
    "* **OPERA** : Nombre de aerolínea que opera.\n",
    "* **SIGLAORI** : Nombre ciudad origen.\n",
    "* **SIGLADES** : Nombre ciudad destino\n",
    "---\n",
    "Se importan las librerías a utilizar"
   ]
  },
  {
   "cell_type": "code",
   "execution_count": 6,
   "metadata": {},
   "outputs": [],
   "source": [
    "import pandas as pd\n",
    "import numpy as np\n",
    "import matplotlib.pyplot as plt\n",
    "import seaborn as sns\n",
    "import os\n",
    "import plotly.graph_objs as go\n",
    "from datetime import datetime\n",
    "from sklearn.metrics import confusion_matrix\n",
    "from sklearn.metrics import roc_curve\n",
    "from sklearn.metrics import roc_auc_score\n",
    "from sklearn.preprocessing import StandardScaler\n",
    "from sklearn.model_selection import train_test_split\n",
    "from sklearn.linear_model import LogisticRegression \n",
    "from sklearn.ensemble import RandomForestClassifier\n",
    "from sklearn.model_selection import RandomizedSearchCV\n",
    "from sklearn.model_selection import cross_val_score\n",
    "from sklearn.model_selection import cross_validate\n",
    "from sklearn.metrics import accuracy_score\n",
    "from sklearn.preprocessing import StandardScaler\n",
    "from sklearn.model_selection import train_test_split\n",
    "from sklearn.metrics import confusion_matrix\n",
    "from sklearn.model_selection import GridSearchCV, RandomizedSearchCV\n",
    "from sklearn.linear_model import LogisticRegression\n",
    "from sklearn.model_selection import StratifiedKFold\n",
    "from imblearn.over_sampling import SMOTENC\n",
    "from sklearn.ensemble import AdaBoostClassifier\n",
    "import xgboost as xgb\n",
    "import warnings\n",
    "warnings.filterwarnings('ignore')\n",
    "from warnings import simplefilter\n",
    "simplefilter(action='ignore', category=FutureWarning)"
   ]
  },
  {
   "cell_type": "markdown",
   "metadata": {},
   "source": [
    "Leer dataset"
   ]
  },
  {
   "cell_type": "code",
   "execution_count": 2,
   "metadata": {},
   "outputs": [
    {
     "name": "stderr",
     "output_type": "stream",
     "text": [
      "/Users/jesus.berrios/opt/anaconda3/lib/python3.9/site-packages/IPython/core/interactiveshell.py:3444: DtypeWarning: Columns (1,6) have mixed types.Specify dtype option on import or set low_memory=False.\n",
      "  exec(code_obj, self.user_global_ns, self.user_ns)\n"
     ]
    },
    {
     "data": {
      "text/html": [
       "<div>\n",
       "<style scoped>\n",
       "    .dataframe tbody tr th:only-of-type {\n",
       "        vertical-align: middle;\n",
       "    }\n",
       "\n",
       "    .dataframe tbody tr th {\n",
       "        vertical-align: top;\n",
       "    }\n",
       "\n",
       "    .dataframe thead th {\n",
       "        text-align: right;\n",
       "    }\n",
       "</style>\n",
       "<table border=\"1\" class=\"dataframe\">\n",
       "  <thead>\n",
       "    <tr style=\"text-align: right;\">\n",
       "      <th></th>\n",
       "      <th>Fecha-I</th>\n",
       "      <th>Vlo-I</th>\n",
       "      <th>Ori-I</th>\n",
       "      <th>Des-I</th>\n",
       "      <th>Emp-I</th>\n",
       "      <th>Fecha-O</th>\n",
       "      <th>Vlo-O</th>\n",
       "      <th>Ori-O</th>\n",
       "      <th>Des-O</th>\n",
       "      <th>Emp-O</th>\n",
       "      <th>DIA</th>\n",
       "      <th>MES</th>\n",
       "      <th>AÑO</th>\n",
       "      <th>DIANOM</th>\n",
       "      <th>TIPOVUELO</th>\n",
       "      <th>OPERA</th>\n",
       "      <th>SIGLAORI</th>\n",
       "      <th>SIGLADES</th>\n",
       "    </tr>\n",
       "  </thead>\n",
       "  <tbody>\n",
       "    <tr>\n",
       "      <th>0</th>\n",
       "      <td>2017-01-01 23:30:00</td>\n",
       "      <td>226</td>\n",
       "      <td>SCEL</td>\n",
       "      <td>KMIA</td>\n",
       "      <td>AAL</td>\n",
       "      <td>2017-01-01 23:33:00</td>\n",
       "      <td>226</td>\n",
       "      <td>SCEL</td>\n",
       "      <td>KMIA</td>\n",
       "      <td>AAL</td>\n",
       "      <td>1</td>\n",
       "      <td>1</td>\n",
       "      <td>2017</td>\n",
       "      <td>Domingo</td>\n",
       "      <td>I</td>\n",
       "      <td>American Airlines</td>\n",
       "      <td>Santiago</td>\n",
       "      <td>Miami</td>\n",
       "    </tr>\n",
       "    <tr>\n",
       "      <th>1</th>\n",
       "      <td>2017-01-02 23:30:00</td>\n",
       "      <td>226</td>\n",
       "      <td>SCEL</td>\n",
       "      <td>KMIA</td>\n",
       "      <td>AAL</td>\n",
       "      <td>2017-01-02 23:39:00</td>\n",
       "      <td>226</td>\n",
       "      <td>SCEL</td>\n",
       "      <td>KMIA</td>\n",
       "      <td>AAL</td>\n",
       "      <td>2</td>\n",
       "      <td>1</td>\n",
       "      <td>2017</td>\n",
       "      <td>Lunes</td>\n",
       "      <td>I</td>\n",
       "      <td>American Airlines</td>\n",
       "      <td>Santiago</td>\n",
       "      <td>Miami</td>\n",
       "    </tr>\n",
       "    <tr>\n",
       "      <th>2</th>\n",
       "      <td>2017-01-03 23:30:00</td>\n",
       "      <td>226</td>\n",
       "      <td>SCEL</td>\n",
       "      <td>KMIA</td>\n",
       "      <td>AAL</td>\n",
       "      <td>2017-01-03 23:39:00</td>\n",
       "      <td>226</td>\n",
       "      <td>SCEL</td>\n",
       "      <td>KMIA</td>\n",
       "      <td>AAL</td>\n",
       "      <td>3</td>\n",
       "      <td>1</td>\n",
       "      <td>2017</td>\n",
       "      <td>Martes</td>\n",
       "      <td>I</td>\n",
       "      <td>American Airlines</td>\n",
       "      <td>Santiago</td>\n",
       "      <td>Miami</td>\n",
       "    </tr>\n",
       "    <tr>\n",
       "      <th>3</th>\n",
       "      <td>2017-01-04 23:30:00</td>\n",
       "      <td>226</td>\n",
       "      <td>SCEL</td>\n",
       "      <td>KMIA</td>\n",
       "      <td>AAL</td>\n",
       "      <td>2017-01-04 23:33:00</td>\n",
       "      <td>226</td>\n",
       "      <td>SCEL</td>\n",
       "      <td>KMIA</td>\n",
       "      <td>AAL</td>\n",
       "      <td>4</td>\n",
       "      <td>1</td>\n",
       "      <td>2017</td>\n",
       "      <td>Miercoles</td>\n",
       "      <td>I</td>\n",
       "      <td>American Airlines</td>\n",
       "      <td>Santiago</td>\n",
       "      <td>Miami</td>\n",
       "    </tr>\n",
       "    <tr>\n",
       "      <th>4</th>\n",
       "      <td>2017-01-05 23:30:00</td>\n",
       "      <td>226</td>\n",
       "      <td>SCEL</td>\n",
       "      <td>KMIA</td>\n",
       "      <td>AAL</td>\n",
       "      <td>2017-01-05 23:28:00</td>\n",
       "      <td>226</td>\n",
       "      <td>SCEL</td>\n",
       "      <td>KMIA</td>\n",
       "      <td>AAL</td>\n",
       "      <td>5</td>\n",
       "      <td>1</td>\n",
       "      <td>2017</td>\n",
       "      <td>Jueves</td>\n",
       "      <td>I</td>\n",
       "      <td>American Airlines</td>\n",
       "      <td>Santiago</td>\n",
       "      <td>Miami</td>\n",
       "    </tr>\n",
       "    <tr>\n",
       "      <th>...</th>\n",
       "      <td>...</td>\n",
       "      <td>...</td>\n",
       "      <td>...</td>\n",
       "      <td>...</td>\n",
       "      <td>...</td>\n",
       "      <td>...</td>\n",
       "      <td>...</td>\n",
       "      <td>...</td>\n",
       "      <td>...</td>\n",
       "      <td>...</td>\n",
       "      <td>...</td>\n",
       "      <td>...</td>\n",
       "      <td>...</td>\n",
       "      <td>...</td>\n",
       "      <td>...</td>\n",
       "      <td>...</td>\n",
       "      <td>...</td>\n",
       "      <td>...</td>\n",
       "    </tr>\n",
       "    <tr>\n",
       "      <th>68201</th>\n",
       "      <td>2017-12-22 14:55:00</td>\n",
       "      <td>400</td>\n",
       "      <td>SCEL</td>\n",
       "      <td>SPJC</td>\n",
       "      <td>JAT</td>\n",
       "      <td>2017-12-22 15:41:00</td>\n",
       "      <td>400.0</td>\n",
       "      <td>SCEL</td>\n",
       "      <td>SPJC</td>\n",
       "      <td>JAT</td>\n",
       "      <td>22</td>\n",
       "      <td>12</td>\n",
       "      <td>2017</td>\n",
       "      <td>Viernes</td>\n",
       "      <td>I</td>\n",
       "      <td>JetSmart SPA</td>\n",
       "      <td>Santiago</td>\n",
       "      <td>Lima</td>\n",
       "    </tr>\n",
       "    <tr>\n",
       "      <th>68202</th>\n",
       "      <td>2017-12-25 14:55:00</td>\n",
       "      <td>400</td>\n",
       "      <td>SCEL</td>\n",
       "      <td>SPJC</td>\n",
       "      <td>JAT</td>\n",
       "      <td>2017-12-25 15:11:00</td>\n",
       "      <td>400.0</td>\n",
       "      <td>SCEL</td>\n",
       "      <td>SPJC</td>\n",
       "      <td>JAT</td>\n",
       "      <td>25</td>\n",
       "      <td>12</td>\n",
       "      <td>2017</td>\n",
       "      <td>Lunes</td>\n",
       "      <td>I</td>\n",
       "      <td>JetSmart SPA</td>\n",
       "      <td>Santiago</td>\n",
       "      <td>Lima</td>\n",
       "    </tr>\n",
       "    <tr>\n",
       "      <th>68203</th>\n",
       "      <td>2017-12-27 14:55:00</td>\n",
       "      <td>400</td>\n",
       "      <td>SCEL</td>\n",
       "      <td>SPJC</td>\n",
       "      <td>JAT</td>\n",
       "      <td>2017-12-27 15:35:00</td>\n",
       "      <td>400.0</td>\n",
       "      <td>SCEL</td>\n",
       "      <td>SPJC</td>\n",
       "      <td>JAT</td>\n",
       "      <td>27</td>\n",
       "      <td>12</td>\n",
       "      <td>2017</td>\n",
       "      <td>Miercoles</td>\n",
       "      <td>I</td>\n",
       "      <td>JetSmart SPA</td>\n",
       "      <td>Santiago</td>\n",
       "      <td>Lima</td>\n",
       "    </tr>\n",
       "    <tr>\n",
       "      <th>68204</th>\n",
       "      <td>2017-12-29 14:55:00</td>\n",
       "      <td>400</td>\n",
       "      <td>SCEL</td>\n",
       "      <td>SPJC</td>\n",
       "      <td>JAT</td>\n",
       "      <td>2017-12-29 15:08:00</td>\n",
       "      <td>400.0</td>\n",
       "      <td>SCEL</td>\n",
       "      <td>SPJC</td>\n",
       "      <td>JAT</td>\n",
       "      <td>29</td>\n",
       "      <td>12</td>\n",
       "      <td>2017</td>\n",
       "      <td>Viernes</td>\n",
       "      <td>I</td>\n",
       "      <td>JetSmart SPA</td>\n",
       "      <td>Santiago</td>\n",
       "      <td>Lima</td>\n",
       "    </tr>\n",
       "    <tr>\n",
       "      <th>68205</th>\n",
       "      <td>2017-12-31 14:55:00</td>\n",
       "      <td>400</td>\n",
       "      <td>SCEL</td>\n",
       "      <td>SPJC</td>\n",
       "      <td>JAT</td>\n",
       "      <td>2017-12-31 15:04:00</td>\n",
       "      <td>400.0</td>\n",
       "      <td>SCEL</td>\n",
       "      <td>SPJC</td>\n",
       "      <td>JAT</td>\n",
       "      <td>31</td>\n",
       "      <td>12</td>\n",
       "      <td>2017</td>\n",
       "      <td>Domingo</td>\n",
       "      <td>I</td>\n",
       "      <td>JetSmart SPA</td>\n",
       "      <td>Santiago</td>\n",
       "      <td>Lima</td>\n",
       "    </tr>\n",
       "  </tbody>\n",
       "</table>\n",
       "<p>68206 rows × 18 columns</p>\n",
       "</div>"
      ],
      "text/plain": [
       "                   Fecha-I Vlo-I Ori-I Des-I Emp-I              Fecha-O  \\\n",
       "0      2017-01-01 23:30:00   226  SCEL  KMIA   AAL  2017-01-01 23:33:00   \n",
       "1      2017-01-02 23:30:00   226  SCEL  KMIA   AAL  2017-01-02 23:39:00   \n",
       "2      2017-01-03 23:30:00   226  SCEL  KMIA   AAL  2017-01-03 23:39:00   \n",
       "3      2017-01-04 23:30:00   226  SCEL  KMIA   AAL  2017-01-04 23:33:00   \n",
       "4      2017-01-05 23:30:00   226  SCEL  KMIA   AAL  2017-01-05 23:28:00   \n",
       "...                    ...   ...   ...   ...   ...                  ...   \n",
       "68201  2017-12-22 14:55:00   400  SCEL  SPJC   JAT  2017-12-22 15:41:00   \n",
       "68202  2017-12-25 14:55:00   400  SCEL  SPJC   JAT  2017-12-25 15:11:00   \n",
       "68203  2017-12-27 14:55:00   400  SCEL  SPJC   JAT  2017-12-27 15:35:00   \n",
       "68204  2017-12-29 14:55:00   400  SCEL  SPJC   JAT  2017-12-29 15:08:00   \n",
       "68205  2017-12-31 14:55:00   400  SCEL  SPJC   JAT  2017-12-31 15:04:00   \n",
       "\n",
       "       Vlo-O Ori-O Des-O Emp-O  DIA  MES   AÑO     DIANOM TIPOVUELO  \\\n",
       "0        226  SCEL  KMIA   AAL    1    1  2017    Domingo         I   \n",
       "1        226  SCEL  KMIA   AAL    2    1  2017      Lunes         I   \n",
       "2        226  SCEL  KMIA   AAL    3    1  2017     Martes         I   \n",
       "3        226  SCEL  KMIA   AAL    4    1  2017  Miercoles         I   \n",
       "4        226  SCEL  KMIA   AAL    5    1  2017     Jueves         I   \n",
       "...      ...   ...   ...   ...  ...  ...   ...        ...       ...   \n",
       "68201  400.0  SCEL  SPJC   JAT   22   12  2017    Viernes         I   \n",
       "68202  400.0  SCEL  SPJC   JAT   25   12  2017      Lunes         I   \n",
       "68203  400.0  SCEL  SPJC   JAT   27   12  2017  Miercoles         I   \n",
       "68204  400.0  SCEL  SPJC   JAT   29   12  2017    Viernes         I   \n",
       "68205  400.0  SCEL  SPJC   JAT   31   12  2017    Domingo         I   \n",
       "\n",
       "                   OPERA  SIGLAORI SIGLADES  \n",
       "0      American Airlines  Santiago    Miami  \n",
       "1      American Airlines  Santiago    Miami  \n",
       "2      American Airlines  Santiago    Miami  \n",
       "3      American Airlines  Santiago    Miami  \n",
       "4      American Airlines  Santiago    Miami  \n",
       "...                  ...       ...      ...  \n",
       "68201       JetSmart SPA  Santiago     Lima  \n",
       "68202       JetSmart SPA  Santiago     Lima  \n",
       "68203       JetSmart SPA  Santiago     Lima  \n",
       "68204       JetSmart SPA  Santiago     Lima  \n",
       "68205       JetSmart SPA  Santiago     Lima  \n",
       "\n",
       "[68206 rows x 18 columns]"
      ]
     },
     "execution_count": 2,
     "metadata": {},
     "output_type": "execute_result"
    }
   ],
   "source": [
    "df = pd.read_csv('./input/dataset_SCL.csv')\n",
    "df"
   ]
  },
  {
   "cell_type": "markdown",
   "metadata": {},
   "source": [
    "## 1. ¿Cómo se distribuyen los datos? ¿Qué te llama la atención o cuál es tu conclusión sobre esto?\n",
    "Se procede a explorar los datos.\n",
    "\n",
    "#### Se exploran dtypes y existencias de datos nulos:"
   ]
  },
  {
   "cell_type": "code",
   "execution_count": 3,
   "metadata": {},
   "outputs": [
    {
     "name": "stdout",
     "output_type": "stream",
     "text": [
      "<class 'pandas.core.frame.DataFrame'>\n",
      "RangeIndex: 68206 entries, 0 to 68205\n",
      "Data columns (total 18 columns):\n",
      " #   Column     Non-Null Count  Dtype \n",
      "---  ------     --------------  ----- \n",
      " 0   Fecha-I    68206 non-null  object\n",
      " 1   Vlo-I      68206 non-null  object\n",
      " 2   Ori-I      68206 non-null  object\n",
      " 3   Des-I      68206 non-null  object\n",
      " 4   Emp-I      68206 non-null  object\n",
      " 5   Fecha-O    68206 non-null  object\n",
      " 6   Vlo-O      68205 non-null  object\n",
      " 7   Ori-O      68206 non-null  object\n",
      " 8   Des-O      68206 non-null  object\n",
      " 9   Emp-O      68206 non-null  object\n",
      " 10  DIA        68206 non-null  int64 \n",
      " 11  MES        68206 non-null  int64 \n",
      " 12  AÑO        68206 non-null  int64 \n",
      " 13  DIANOM     68206 non-null  object\n",
      " 14  TIPOVUELO  68206 non-null  object\n",
      " 15  OPERA      68206 non-null  object\n",
      " 16  SIGLAORI   68206 non-null  object\n",
      " 17  SIGLADES   68206 non-null  object\n",
      "dtypes: int64(3), object(15)\n",
      "memory usage: 9.4+ MB\n"
     ]
    }
   ],
   "source": [
    "df.info()"
   ]
  },
  {
   "cell_type": "markdown",
   "metadata": {},
   "source": [
    "##### Comentarios\n",
    "* No hay existencia de datos nulos\n",
    "* Algunos columnas presentan DType object, por lo que podrían contener strings"
   ]
  },
  {
   "cell_type": "markdown",
   "metadata": {},
   "source": [
    "#### Cantidad de datos por Aerolínea y tipo de vuelo"
   ]
  },
  {
   "cell_type": "code",
   "execution_count": 4,
   "metadata": {},
   "outputs": [
    {
     "data": {
      "image/png": "[encoded data removed]",
      "text/plain": [
       "<Figure size 1008x432 with 3 Axes>"
      ]
     },
     "metadata": {
      "needs_background": "light"
     },
     "output_type": "display_data"
    }
   ],
   "source": [
    "fig, axes = plt.subplots(nrows=1,ncols=2,figsize=(14,6))\n",
    "axes = axes.flatten()\n",
    "\n",
    "ax = axes[0]\n",
    "ax.set_title('Cantidad y porcentaje de registros por Aerolinea')\n",
    "sns.barplot(x=df.OPERA.value_counts().index,y=df.OPERA.value_counts(),ax=ax,color='#7DD1D8')\n",
    "ax.tick_params(axis='x', labelrotation = 90)\n",
    "ax2 = ax.twinx()\n",
    "ax2.set_ylabel('OPERA%')\n",
    "ax2.grid(color='grey',linestyle='-',alpha=0.3)\n",
    "sns.lineplot(x=df.OPERA.value_counts().index,y=df.OPERA.value_counts().cumsum()/df.OPERA.value_counts().sum()*100,ax=ax2,color='k')\n",
    "sns.scatterplot(x=df.OPERA.value_counts().index,y=df.OPERA.value_counts().cumsum()/df.OPERA.value_counts().sum()*100,ax=ax2,color='k')\n",
    "ax2.set_ylim([0,102])\n",
    "\n",
    "\n",
    "ax = axes[1]\n",
    "ax.set_title('Distribucion de datos por Tipo de Vuelo')\n",
    "sns.barplot(x=df.TIPOVUELO.value_counts().index.map({'I':'Internacional','N':'Nacional'}),y=df.TIPOVUELO.value_counts(),ax=ax,palette=['#7DA8D8','#E7C862'],edgecolor='k')\n",
    "#ax.tick_params(axis='x', labelrotation = 90)\n",
    "\n",
    "fig.tight_layout()"
   ]
  },
  {
   "cell_type": "markdown",
   "metadata": {},
   "source": [
    "##### Comentarios\n",
    "* La aerolínea de operación que presenta mayor cantidad de registros es LATAM, con alrededor de 40000 filas. Esta categoría compone alrededor el 60% del dataset.\n",
    "* La aerolínea Sky, con casi 15000 registros concentra alrededor del 20% de los datos.\n",
    "* La cantidad de datos por aerolínea restante compone el 20% del total, en el que ninguna representa más del 10% de la muestra.\n",
    "* La distribución de datos por tipo de vuelo está relativamente balanceada, siendo la muestra de datos de vuelos nacionales ligeramente mayor con respecto a la cantidad de vuelos internacionales."
   ]
  },
  {
   "cell_type": "markdown",
   "metadata": {},
   "source": [
    "#### Cantidad de Vuelos Origen-Destino para Rutas Nacionales e Internacionales"
   ]
  },
  {
   "cell_type": "code",
   "execution_count": 7,
   "metadata": {},
   "outputs": [
    {
     "data": {
      "application/vnd.plotly.v1+json": {
       "config": {
        "plotlyServerURL": "https://plot.ly"
       },
       "data": [
        {
         "link": {
          "customdata": [
           15.652220959800896,
           13.920900286749987,
           11.78650651950441,
           10.801817886706704,
           10.13634150300276,
           7.003733160201266,
           6.589839311800033,
           6.5195044094573396,
           5.694421901206514,
           4.815235621922849,
           2.2696531948276797,
           2.0370069793864634,
           1.2227452253422064,
           0.7006438348752908,
           0.6357193096358816,
           0.21370989557972192
          ],
          "hovertemplate": "%{customdata:.2f} %",
          "source": [
           0,
           0,
           0,
           0,
           0,
           0,
           0,
           0,
           0,
           0,
           0,
           0,
           0,
           0,
           0,
           0
          ],
          "target": [
           1,
           2,
           3,
           4,
           5,
           6,
           7,
           8,
           9,
           10,
           11,
           12,
           13,
           14,
           15,
           16
          ],
          "value": [
           5786,
           5146,
           4357,
           3993,
           3747,
           2589,
           2436,
           2410,
           2105,
           1780,
           839,
           753,
           452,
           259,
           235,
           79
          ]
         },
         "node": {
          "color": [
           "#1f77b4",
           "#aec7e8",
           "#ff7f0e",
           "#ffbb78",
           "#2ca02c",
           "#98df8a",
           "#d62728",
           "#ff9896",
           "#9467bd",
           "#c5b0d5",
           "#8c564b",
           "#c49c94",
           "#e377c2",
           "#f7b6d2",
           "#7f7f7f",
           "#c7c7c7",
           "#bcbd22"
          ],
          "label": [
           "Santiago",
           "Antofagasta",
           "Calama",
           "Puerto Montt",
           "Concepcion",
           "Iquique",
           "Temuco",
           "Arica",
           "La Serena",
           "Punta Arenas",
           "Copiapo",
           "Balmaceda",
           "Valdivia",
           "Isla de Pascua",
           "Osorno",
           "Castro (Chiloe)",
           "Puerto Natales"
          ],
          "line": {
           "color": "black",
           "width": 0.5
          },
          "pad": 15,
          "thickness": 20
         },
         "type": "sankey",
         "valueformat": ".0f",
         "valuesuffix": " vuelos"
        }
       ],
       "layout": {
        "font": {
         "size": 10
        },
        "height": 700,
        "template": {
         "data": {
          "bar": [
           {
            "error_x": {
             "color": "#2a3f5f"
            },
            "error_y": {
             "color": "#2a3f5f"
            },
            "marker": {
             "line": {
              "color": "#E5ECF6",
              "width": 0.5
             },
             "pattern": {
              "fillmode": "overlay",
              "size": 10,
              "solidity": 0.2
             }
            },
            "type": "bar"
           }
          ],
          "barpolar": [
           {
            "marker": {
             "line": {
              "color": "#E5ECF6",
              "width": 0.5
             },
             "pattern": {
              "fillmode": "overlay",
              "size": 10,
              "solidity": 0.2
             }
            },
            "type": "barpolar"
           }
          ],
          "carpet": [
           {
            "aaxis": {
             "endlinecolor": "#2a3f5f",
             "gridcolor": "white",
             "linecolor": "white",
             "minorgridcolor": "white",
             "startlinecolor": "#2a3f5f"
            },
            "baxis": {
             "endlinecolor": "#2a3f5f",
             "gridcolor": "white",
             "linecolor": "white",
             "minorgridcolor": "white",
             "startlinecolor": "#2a3f5f"
            },
            "type": "carpet"
           }
          ],
          "choropleth": [
           {
            "colorbar": {
             "outlinewidth": 0,
             "ticks": ""
            },
            "type": "choropleth"
           }
          ],
          "contour": [
           {
            "colorbar": {
             "outlinewidth": 0,
             "ticks": ""
            },
            "colorscale": [
             [
              0,
              "#0d0887"
             ],
             [
              0.1111111111111111,
              "#46039f"
             ],
             [
              0.2222222222222222,
              "#7201a8"
             ],
             [
              0.3333333333333333,
              "#9c179e"
             ],
             [
              0.4444444444444444,
              "#bd3786"
             ],
             [
              0.5555555555555556,
              "#d8576b"
             ],
             [
              0.6666666666666666,
              "#ed7953"
             ],
             [
              0.7777777777777778,
              "#fb9f3a"
             ],
             [
              0.8888888888888888,
              "#fdca26"
             ],
             [
              1,
              "#f0f921"
             ]
            ],
            "type": "contour"
           }
          ],
          "contourcarpet": [
           {
            "colorbar": {
             "outlinewidth": 0,
             "ticks": ""
            },
            "type": "contourcarpet"
           }
          ],
          "heatmap": [
           {
            "colorbar": {
             "outlinewidth": 0,
             "ticks": ""
            },
            "colorscale": [
             [
              0,
              "#0d0887"
             ],
             [
              0.1111111111111111,
              "#46039f"
             ],
             [
              0.2222222222222222,
              "#7201a8"
             ],
             [
              0.3333333333333333,
              "#9c179e"
             ],
             [
              0.4444444444444444,
              "#bd3786"
             ],
             [
              0.5555555555555556,
              "#d8576b"
             ],
             [
              0.6666666666666666,
              "#ed7953"
             ],
             [
              0.7777777777777778,
              "#fb9f3a"
             ],
             [
              0.8888888888888888,
              "#fdca26"
             ],
             [
              1,
              "#f0f921"
             ]
            ],
            "type": "heatmap"
           }
          ],
          "heatmapgl": [
           {
            "colorbar": {
             "outlinewidth": 0,
             "ticks": ""
            },
            "colorscale": [
             [
              0,
              "#0d0887"
             ],
             [
              0.1111111111111111,
              "#46039f"
             ],
             [
              0.2222222222222222,
              "#7201a8"
             ],
             [
              0.3333333333333333,
              "#9c179e"
             ],
             [
              0.4444444444444444,
              "#bd3786"
             ],
             [
              0.5555555555555556,
              "#d8576b"
             ],
             [
              0.6666666666666666,
              "#ed7953"
             ],
             [
              0.7777777777777778,
              "#fb9f3a"
             ],
             [
              0.8888888888888888,
              "#fdca26"
             ],
             [
              1,
              "#f0f921"
             ]
            ],
            "type": "heatmapgl"
           }
          ],
          "histogram": [
           {
            "marker": {
             "pattern": {
              "fillmode": "overlay",
              "size": 10,
              "solidity": 0.2
             }
            },
            "type": "histogram"
           }
          ],
          "histogram2d": [
           {
            "colorbar": {
             "outlinewidth": 0,
             "ticks": ""
            },
            "colorscale": [
             [
              0,
              "#0d0887"
             ],
             [
              0.1111111111111111,
              "#46039f"
             ],
             [
              0.2222222222222222,
              "#7201a8"
             ],
             [
              0.3333333333333333,
              "#9c179e"
             ],
             [
              0.4444444444444444,
              "#bd3786"
             ],
             [
              0.5555555555555556,
              "#d8576b"
             ],
             [
              0.6666666666666666,
              "#ed7953"
             ],
             [
              0.7777777777777778,
              "#fb9f3a"
             ],
             [
              0.8888888888888888,
              "#fdca26"
             ],
             [
              1,
              "#f0f921"
             ]
            ],
            "type": "histogram2d"
           }
          ],
          "histogram2dcontour": [
           {
            "colorbar": {
             "outlinewidth": 0,
             "ticks": ""
            },
            "colorscale": [
             [
              0,
              "#0d0887"
             ],
             [
              0.1111111111111111,
              "#46039f"
             ],
             [
              0.2222222222222222,
              "#7201a8"
             ],
             [
              0.3333333333333333,
              "#9c179e"
             ],
             [
              0.4444444444444444,
              "#bd3786"
             ],
             [
              0.5555555555555556,
              "#d8576b"
             ],
             [
              0.6666666666666666,
              "#ed7953"
             ],
             [
              0.7777777777777778,
              "#fb9f3a"
             ],
             [
              0.8888888888888888,
              "#fdca26"
             ],
             [
              1,
              "#f0f921"
             ]
            ],
            "type": "histogram2dcontour"
           }
          ],
          "mesh3d": [
           {
            "colorbar": {
             "outlinewidth": 0,
             "ticks": ""
            },
            "type": "mesh3d"
           }
          ],
          "parcoords": [
           {
            "line": {
             "colorbar": {
              "outlinewidth": 0,
              "ticks": ""
             }
            },
            "type": "parcoords"
           }
          ],
          "pie": [
           {
            "automargin": true,
            "type": "pie"
           }
          ],
          "scatter": [
           {
            "fillpattern": {
             "fillmode": "overlay",
             "size": 10,
             "solidity": 0.2
            },
            "type": "scatter"
           }
          ],
          "scatter3d": [
           {
            "line": {
             "colorbar": {
              "outlinewidth": 0,
              "ticks": ""
             }
            },
            "marker": {
             "colorbar": {
              "outlinewidth": 0,
              "ticks": ""
             }
            },
            "type": "scatter3d"
           }
          ],
          "scattercarpet": [
           {
            "marker": {
             "colorbar": {
              "outlinewidth": 0,
              "ticks": ""
             }
            },
            "type": "scattercarpet"
           }
          ],
          "scattergeo": [
           {
            "marker": {
             "colorbar": {
              "outlinewidth": 0,
              "ticks": ""
             }
            },
            "type": "scattergeo"
           }
          ],
          "scattergl": [
           {
            "marker": {
             "colorbar": {
              "outlinewidth": 0,
              "ticks": ""
             }
            },
            "type": "scattergl"
           }
          ],
          "scattermapbox": [
           {
            "marker": {
             "colorbar": {
              "outlinewidth": 0,
              "ticks": ""
             }
            },
            "type": "scattermapbox"
           }
          ],
          "scatterpolar": [
           {
            "marker": {
             "colorbar": {
              "outlinewidth": 0,
              "ticks": ""
             }
            },
            "type": "scatterpolar"
           }
          ],
          "scatterpolargl": [
           {
            "marker": {
             "colorbar": {
              "outlinewidth": 0,
              "ticks": ""
             }
            },
            "type": "scatterpolargl"
           }
          ],
          "scatterternary": [
           {
            "marker": {
             "colorbar": {
              "outlinewidth": 0,
              "ticks": ""
             }
            },
            "type": "scatterternary"
           }
          ],
          "surface": [
           {
            "colorbar": {
             "outlinewidth": 0,
             "ticks": ""
            },
            "colorscale": [
             [
              0,
              "#0d0887"
             ],
             [
              0.1111111111111111,
              "#46039f"
             ],
             [
              0.2222222222222222,
              "#7201a8"
             ],
             [
              0.3333333333333333,
              "#9c179e"
             ],
             [
              0.4444444444444444,
              "#bd3786"
             ],
             [
              0.5555555555555556,
              "#d8576b"
             ],
             [
              0.6666666666666666,
              "#ed7953"
             ],
             [
              0.7777777777777778,
              "#fb9f3a"
             ],
             [
              0.8888888888888888,
              "#fdca26"
             ],
             [
              1,
              "#f0f921"
             ]
            ],
            "type": "surface"
           }
          ],
          "table": [
           {
            "cells": {
             "fill": {
              "color": "#EBF0F8"
             },
             "line": {
              "color": "white"
             }
            },
            "header": {
             "fill": {
              "color": "#C8D4E3"
             },
             "line": {
              "color": "white"
             }
            },
            "type": "table"
           }
          ]
         },
         "layout": {
          "annotationdefaults": {
           "arrowcolor": "#2a3f5f",
           "arrowhead": 0,
           "arrowwidth": 1
          },
          "autotypenumbers": "strict",
          "coloraxis": {
           "colorbar": {
            "outlinewidth": 0,
            "ticks": ""
           }
          },
          "colorscale": {
           "diverging": [
            [
             0,
             "#8e0152"
            ],
            [
             0.1,
             "#c51b7d"
            ],
            [
             0.2,
             "#de77ae"
            ],
            [
             0.3,
             "#f1b6da"
            ],
            [
             0.4,
             "#fde0ef"
            ],
            [
             0.5,
             "#f7f7f7"
            ],
            [
             0.6,
             "#e6f5d0"
            ],
            [
             0.7,
             "#b8e186"
            ],
            [
             0.8,
             "#7fbc41"
            ],
            [
             0.9,
             "#4d9221"
            ],
            [
             1,
             "#276419"
            ]
           ],
           "sequential": [
            [
             0,
             "#0d0887"
            ],
            [
             0.1111111111111111,
             "#46039f"
            ],
            [
             0.2222222222222222,
             "#7201a8"
            ],
            [
             0.3333333333333333,
             "#9c179e"
            ],
            [
             0.4444444444444444,
             "#bd3786"
            ],
            [
             0.5555555555555556,
             "#d8576b"
            ],
            [
             0.6666666666666666,
             "#ed7953"
            ],
            [
             0.7777777777777778,
             "#fb9f3a"
            ],
            [
             0.8888888888888888,
             "#fdca26"
            ],
            [
             1,
             "#f0f921"
            ]
           ],
           "sequentialminus": [
            [
             0,
             "#0d0887"
            ],
            [
             0.1111111111111111,
             "#46039f"
            ],
            [
             0.2222222222222222,
             "#7201a8"
            ],
            [
             0.3333333333333333,
             "#9c179e"
            ],
            [
             0.4444444444444444,
             "#bd3786"
            ],
            [
             0.5555555555555556,
             "#d8576b"
            ],
            [
             0.6666666666666666,
             "#ed7953"
            ],
            [
             0.7777777777777778,
             "#fb9f3a"
            ],
            [
             0.8888888888888888,
             "#fdca26"
            ],
            [
             1,
             "#f0f921"
            ]
           ]
          },
          "colorway": [
           "#636efa",
           "#EF553B",
           "#00cc96",
           "#ab63fa",
           "#FFA15A",
           "#19d3f3",
           "#FF6692",
           "#B6E880",
           "#FF97FF",
           "#FECB52"
          ],
          "font": {
           "color": "#2a3f5f"
          },
          "geo": {
           "bgcolor": "white",
           "lakecolor": "white",
           "landcolor": "#E5ECF6",
           "showlakes": true,
           "showland": true,
           "subunitcolor": "white"
          },
          "hoverlabel": {
           "align": "left"
          },
          "hovermode": "closest",
          "mapbox": {
           "style": "light"
          },
          "paper_bgcolor": "white",
          "plot_bgcolor": "#E5ECF6",
          "polar": {
           "angularaxis": {
            "gridcolor": "white",
            "linecolor": "white",
            "ticks": ""
           },
           "bgcolor": "#E5ECF6",
           "radialaxis": {
            "gridcolor": "white",
            "linecolor": "white",
            "ticks": ""
           }
          },
          "scene": {
           "xaxis": {
            "backgroundcolor": "#E5ECF6",
            "gridcolor": "white",
            "gridwidth": 2,
            "linecolor": "white",
            "showbackground": true,
            "ticks": "",
            "zerolinecolor": "white"
           },
           "yaxis": {
            "backgroundcolor": "#E5ECF6",
            "gridcolor": "white",
            "gridwidth": 2,
            "linecolor": "white",
            "showbackground": true,
            "ticks": "",
            "zerolinecolor": "white"
           },
           "zaxis": {
            "backgroundcolor": "#E5ECF6",
            "gridcolor": "white",
            "gridwidth": 2,
            "linecolor": "white",
            "showbackground": true,
            "ticks": "",
            "zerolinecolor": "white"
           }
          },
          "shapedefaults": {
           "line": {
            "color": "#2a3f5f"
           }
          },
          "ternary": {
           "aaxis": {
            "gridcolor": "white",
            "linecolor": "white",
            "ticks": ""
           },
           "baxis": {
            "gridcolor": "white",
            "linecolor": "white",
            "ticks": ""
           },
           "bgcolor": "#E5ECF6",
           "caxis": {
            "gridcolor": "white",
            "linecolor": "white",
            "ticks": ""
           }
          },
          "title": {
           "x": 0.05
          },
          "xaxis": {
           "automargin": true,
           "gridcolor": "white",
           "linecolor": "white",
           "ticks": "",
           "title": {
            "standoff": 15
           },
           "zerolinecolor": "white",
           "zerolinewidth": 2
          },
          "yaxis": {
           "automargin": true,
           "gridcolor": "white",
           "linecolor": "white",
           "ticks": "",
           "title": {
            "standoff": 15
           },
           "zerolinecolor": "white",
           "zerolinewidth": 2
          }
         }
        },
        "title": {
         "text": "Cantidad de Vuelos Origen-Destino (Rutas Nacionales)"
        },
        "width": 500
       }
      }
     },
     "metadata": {},
     "output_type": "display_data"
    }
   ],
   "source": [
    "dfsn = df[['SIGLAORI','SIGLADES','Fecha-I']][df.TIPOVUELO=='N'].groupby(['SIGLAORI','SIGLADES'])[['Fecha-I']].count().reset_index().rename(columns={'Fecha-I':'vuelos_qty'}).sort_values('vuelos_qty',ascending=False)\n",
    "dfsn['vuel_p'] = dfsn.vuelos_qty/dfsn.vuelos_qty.sum()*100\n",
    "\n",
    "# Generate data \n",
    "lab=dfsn.SIGLAORI.unique().tolist()+dfsn.SIGLADES.unique().tolist()\n",
    "position_list = [*range(0,len(dfsn.SIGLAORI.unique().tolist()+dfsn.SIGLADES.unique().tolist()))]\n",
    "sou = [lab.index(x) for x in dfsn.SIGLAORI]\n",
    "dest = [lab.index(x) for x in dfsn.SIGLADES]\n",
    "color_n = [str(sns.color_palette('tab20').as_hex()[x]) for x in range(0,len(lab))]\n",
    "\n",
    "#Plot Sankey for National\n",
    "fig = go.Figure(data=[go.Sankey(\n",
    "  valueformat = \".0f\",\n",
    "  valuesuffix = \" vuelos\",\n",
    "    node = dict(\n",
    "      pad = 15,\n",
    "      thickness = 20,\n",
    "      line = dict(color = \"black\", width = 0.5),\n",
    "      label = lab,\n",
    "      color = color_n\n",
    "    ),\n",
    "    link = dict(\n",
    "      source = sou, # indices correspond to labels, eg A1, A2, A1, B1, ...\n",
    "      target = dest,\n",
    "      value = dfsn.vuelos_qty.values.tolist(),\n",
    "      customdata = dfsn.vuel_p.values.tolist(),\n",
    "      hovertemplate=\"%{customdata:.2f} %\"\n",
    "  ))])\n",
    "\n",
    "fig.update_layout(title_text=\"Cantidad de Vuelos Origen-Destino (Rutas Nacionales)\", font_size=10,width=500, height=700)\n",
    "fig.show()"
   ]
  },
  {
   "cell_type": "markdown",
   "metadata": {},
   "source": [
    "##### Comentarios:\n",
    "* Todos los vuelos nacionales tienen como Origen la Ciudad de Santiago\n",
    "* Las ciudades con mayor cantidad de vuelos son Antofagasta, con 5786 vuelos (15.65% de los vuelos nacionales); y Calama con 5146 vuelos (13.92% de los vuelos nacionales)"
   ]
  },
  {
   "cell_type": "code",
   "execution_count": 8,
   "metadata": {},
   "outputs": [
    {
     "data": {
      "application/vnd.plotly.v1+json": {
       "config": {
        "plotlyServerURL": "https://plot.ly"
       },
       "data": [
        {
         "link": {
          "customdata": [
           20.278489116517285,
           16.869398207426375,
           11.424455825864277,
           5.921895006402049,
           5.201664532650448,
           5.134443021766966,
           4.593469910371319,
           3.4122919334186936,
           3.2746478873239435,
           3.2522407170294496,
           2.8617157490396927,
           2.240717029449424,
           1.3508322663252241,
           1.2227912932138283,
           1.1555697823303457,
           1.1491677336747759,
           1.145966709346991,
           1.1427656850192063,
           1.0691421254801536,
           0.9058898847631243,
           0.8290653008962869,
           0.7426376440460948,
           0.6690140845070423,
           0.6562099871959026,
           0.6209987195902689,
           0.5185659411011524,
           0.4961587708066581,
           0.43533930857874525,
           0.3841229193341869,
           0.20166453265044815,
           0.17285531370038412,
           0.12483994878361075,
           0.12163892445582586,
           0.11843790012804098,
           0.11203585147247119,
           0.10883482714468631,
           0.019206145966709345,
           0.019206145966709345,
           0.009603072983354673,
           0.006402048655569782,
           0.006402048655569782,
           0.006402048655569782,
           0.003201024327784891,
           0.003201024327784891,
           0.003201024327784891,
           0.003201024327784891
          ],
          "hovertemplate": "%{customdata:.2f} %",
          "source": [
           0,
           0,
           0,
           0,
           0,
           0,
           0,
           0,
           0,
           0,
           0,
           0,
           0,
           0,
           0,
           0,
           0,
           0,
           0,
           0,
           0,
           0,
           0,
           0,
           0,
           0,
           0,
           0,
           0,
           0,
           0,
           0,
           0,
           0,
           0,
           0,
           0,
           0,
           0,
           0,
           0,
           0,
           0,
           0,
           0,
           0
          ],
          "target": [
           1,
           2,
           3,
           4,
           5,
           6,
           7,
           8,
           9,
           10,
           11,
           12,
           13,
           14,
           15,
           16,
           17,
           18,
           19,
           20,
           21,
           22,
           23,
           24,
           25,
           26,
           27,
           28,
           29,
           30,
           31,
           32,
           33,
           34,
           35,
           36,
           37,
           38,
           39,
           40,
           41,
           42,
           43,
           44,
           45,
           46
          ],
          "value": [
           6335,
           5270,
           3569,
           1850,
           1625,
           1604,
           1435,
           1066,
           1023,
           1016,
           894,
           700,
           422,
           382,
           361,
           359,
           358,
           357,
           334,
           283,
           259,
           232,
           209,
           205,
           194,
           162,
           155,
           136,
           120,
           63,
           54,
           39,
           38,
           37,
           35,
           34,
           6,
           6,
           3,
           2,
           2,
           2,
           1,
           1,
           1,
           1
          ]
         },
         "node": {
          "color": [
           "#1f77b4",
           "#aec7e8",
           "#ff7f0e",
           "#ffbb78",
           "#2ca02c",
           "#98df8a",
           "#d62728",
           "#ff9896",
           "#9467bd",
           "#c5b0d5",
           "#8c564b",
           "#c49c94",
           "#e377c2",
           "#f7b6d2",
           "#7f7f7f",
           "#c7c7c7",
           "#bcbd22",
           "#dbdb8d",
           "#17becf",
           "#9edae5",
           "#1f77b4",
           "#aec7e8",
           "#ff7f0e",
           "#ffbb78",
           "#2ca02c",
           "#98df8a",
           "#d62728",
           "#ff9896",
           "#9467bd",
           "#c5b0d5",
           "#8c564b",
           "#c49c94",
           "#e377c2",
           "#f7b6d2",
           "#7f7f7f",
           "#c7c7c7",
           "#bcbd22",
           "#dbdb8d",
           "#17becf",
           "#9edae5",
           "#1f77b4",
           "#aec7e8",
           "#ff7f0e",
           "#ffbb78",
           "#2ca02c",
           "#98df8a",
           "#d62728"
          ],
          "label": [
           "Santiago",
           "Buenos Aires",
           "Lima",
           "Sao Paulo",
           "Ciudad de Panama",
           "Mendoza",
           "Bogota",
           "Rio de Janeiro",
           "Montevideo",
           "Cordoba",
           "Miami",
           "Madrid",
           "Ciudad de Mexico",
           "Guayaquil",
           "Nueva York",
           "Auckland N.Z.",
           "Paris",
           "Atlanta",
           "Dallas",
           "Houston",
           "Toronto",
           "Roma",
           "Asuncion",
           "La Paz",
           "Londres",
           "Sydney",
           "Florianapolis",
           "Los Angeles",
           "Rosario",
           "Santa Cruz",
           "Cancun",
           "Punta Cana",
           "Melbourne",
           "Tucuman",
           "Neuquen",
           "San Juan, Arg.",
           "Orlando",
           "Ushuia",
           "Punta del Este",
           "Curitiba, Bra.",
           "Bariloche",
           "Quito",
           "Cataratas Iguacu",
           "Cochabamba",
           "Puerto Stanley",
           "Pisco, Peru",
           "Washington"
          ],
          "line": {
           "color": "black",
           "width": 0.5
          },
          "pad": 15,
          "thickness": 20
         },
         "type": "sankey",
         "valueformat": ".0f",
         "valuesuffix": " vuelos"
        }
       ],
       "layout": {
        "font": {
         "size": 10
        },
        "height": 900,
        "template": {
         "data": {
          "bar": [
           {
            "error_x": {
             "color": "#2a3f5f"
            },
            "error_y": {
             "color": "#2a3f5f"
            },
            "marker": {
             "line": {
              "color": "#E5ECF6",
              "width": 0.5
             },
             "pattern": {
              "fillmode": "overlay",
              "size": 10,
              "solidity": 0.2
             }
            },
            "type": "bar"
           }
          ],
          "barpolar": [
           {
            "marker": {
             "line": {
              "color": "#E5ECF6",
              "width": 0.5
             },
             "pattern": {
              "fillmode": "overlay",
              "size": 10,
              "solidity": 0.2
             }
            },
            "type": "barpolar"
           }
          ],
          "carpet": [
           {
            "aaxis": {
             "endlinecolor": "#2a3f5f",
             "gridcolor": "white",
             "linecolor": "white",
             "minorgridcolor": "white",
             "startlinecolor": "#2a3f5f"
            },
            "baxis": {
             "endlinecolor": "#2a3f5f",
             "gridcolor": "white",
             "linecolor": "white",
             "minorgridcolor": "white",
             "startlinecolor": "#2a3f5f"
            },
            "type": "carpet"
           }
          ],
          "choropleth": [
           {
            "colorbar": {
             "outlinewidth": 0,
             "ticks": ""
            },
            "type": "choropleth"
           }
          ],
          "contour": [
           {
            "colorbar": {
             "outlinewidth": 0,
             "ticks": ""
            },
            "colorscale": [
             [
              0,
              "#0d0887"
             ],
             [
              0.1111111111111111,
              "#46039f"
             ],
             [
              0.2222222222222222,
              "#7201a8"
             ],
             [
              0.3333333333333333,
              "#9c179e"
             ],
             [
              0.4444444444444444,
              "#bd3786"
             ],
             [
              0.5555555555555556,
              "#d8576b"
             ],
             [
              0.6666666666666666,
              "#ed7953"
             ],
             [
              0.7777777777777778,
              "#fb9f3a"
             ],
             [
              0.8888888888888888,
              "#fdca26"
             ],
             [
              1,
              "#f0f921"
             ]
            ],
            "type": "contour"
           }
          ],
          "contourcarpet": [
           {
            "colorbar": {
             "outlinewidth": 0,
             "ticks": ""
            },
            "type": "contourcarpet"
           }
          ],
          "heatmap": [
           {
            "colorbar": {
             "outlinewidth": 0,
             "ticks": ""
            },
            "colorscale": [
             [
              0,
              "#0d0887"
             ],
             [
              0.1111111111111111,
              "#46039f"
             ],
             [
              0.2222222222222222,
              "#7201a8"
             ],
             [
              0.3333333333333333,
              "#9c179e"
             ],
             [
              0.4444444444444444,
              "#bd3786"
             ],
             [
              0.5555555555555556,
              "#d8576b"
             ],
             [
              0.6666666666666666,
              "#ed7953"
             ],
             [
              0.7777777777777778,
              "#fb9f3a"
             ],
             [
              0.8888888888888888,
              "#fdca26"
             ],
             [
              1,
              "#f0f921"
             ]
            ],
            "type": "heatmap"
           }
          ],
          "heatmapgl": [
           {
            "colorbar": {
             "outlinewidth": 0,
             "ticks": ""
            },
            "colorscale": [
             [
              0,
              "#0d0887"
             ],
             [
              0.1111111111111111,
              "#46039f"
             ],
             [
              0.2222222222222222,
              "#7201a8"
             ],
             [
              0.3333333333333333,
              "#9c179e"
             ],
             [
              0.4444444444444444,
              "#bd3786"
             ],
             [
              0.5555555555555556,
              "#d8576b"
             ],
             [
              0.6666666666666666,
              "#ed7953"
             ],
             [
              0.7777777777777778,
              "#fb9f3a"
             ],
             [
              0.8888888888888888,
              "#fdca26"
             ],
             [
              1,
              "#f0f921"
             ]
            ],
            "type": "heatmapgl"
           }
          ],
          "histogram": [
           {
            "marker": {
             "pattern": {
              "fillmode": "overlay",
              "size": 10,
              "solidity": 0.2
             }
            },
            "type": "histogram"
           }
          ],
          "histogram2d": [
           {
            "colorbar": {
             "outlinewidth": 0,
             "ticks": ""
            },
            "colorscale": [
             [
              0,
              "#0d0887"
             ],
             [
              0.1111111111111111,
              "#46039f"
             ],
             [
              0.2222222222222222,
              "#7201a8"
             ],
             [
              0.3333333333333333,
              "#9c179e"
             ],
             [
              0.4444444444444444,
              "#bd3786"
             ],
             [
              0.5555555555555556,
              "#d8576b"
             ],
             [
              0.6666666666666666,
              "#ed7953"
             ],
             [
              0.7777777777777778,
              "#fb9f3a"
             ],
             [
              0.8888888888888888,
              "#fdca26"
             ],
             [
              1,
              "#f0f921"
             ]
            ],
            "type": "histogram2d"
           }
          ],
          "histogram2dcontour": [
           {
            "colorbar": {
             "outlinewidth": 0,
             "ticks": ""
            },
            "colorscale": [
             [
              0,
              "#0d0887"
             ],
             [
              0.1111111111111111,
              "#46039f"
             ],
             [
              0.2222222222222222,
              "#7201a8"
             ],
             [
              0.3333333333333333,
              "#9c179e"
             ],
             [
              0.4444444444444444,
              "#bd3786"
             ],
             [
              0.5555555555555556,
              "#d8576b"
             ],
             [
              0.6666666666666666,
              "#ed7953"
             ],
             [
              0.7777777777777778,
              "#fb9f3a"
             ],
             [
              0.8888888888888888,
              "#fdca26"
             ],
             [
              1,
              "#f0f921"
             ]
            ],
            "type": "histogram2dcontour"
           }
          ],
          "mesh3d": [
           {
            "colorbar": {
             "outlinewidth": 0,
             "ticks": ""
            },
            "type": "mesh3d"
           }
          ],
          "parcoords": [
           {
            "line": {
             "colorbar": {
              "outlinewidth": 0,
              "ticks": ""
             }
            },
            "type": "parcoords"
           }
          ],
          "pie": [
           {
            "automargin": true,
            "type": "pie"
           }
          ],
          "scatter": [
           {
            "fillpattern": {
             "fillmode": "overlay",
             "size": 10,
             "solidity": 0.2
            },
            "type": "scatter"
           }
          ],
          "scatter3d": [
           {
            "line": {
             "colorbar": {
              "outlinewidth": 0,
              "ticks": ""
             }
            },
            "marker": {
             "colorbar": {
              "outlinewidth": 0,
              "ticks": ""
             }
            },
            "type": "scatter3d"
           }
          ],
          "scattercarpet": [
           {
            "marker": {
             "colorbar": {
              "outlinewidth": 0,
              "ticks": ""
             }
            },
            "type": "scattercarpet"
           }
          ],
          "scattergeo": [
           {
            "marker": {
             "colorbar": {
              "outlinewidth": 0,
              "ticks": ""
             }
            },
            "type": "scattergeo"
           }
          ],
          "scattergl": [
           {
            "marker": {
             "colorbar": {
              "outlinewidth": 0,
              "ticks": ""
             }
            },
            "type": "scattergl"
           }
          ],
          "scattermapbox": [
           {
            "marker": {
             "colorbar": {
              "outlinewidth": 0,
              "ticks": ""
             }
            },
            "type": "scattermapbox"
           }
          ],
          "scatterpolar": [
           {
            "marker": {
             "colorbar": {
              "outlinewidth": 0,
              "ticks": ""
             }
            },
            "type": "scatterpolar"
           }
          ],
          "scatterpolargl": [
           {
            "marker": {
             "colorbar": {
              "outlinewidth": 0,
              "ticks": ""
             }
            },
            "type": "scatterpolargl"
           }
          ],
          "scatterternary": [
           {
            "marker": {
             "colorbar": {
              "outlinewidth": 0,
              "ticks": ""
             }
            },
            "type": "scatterternary"
           }
          ],
          "surface": [
           {
            "colorbar": {
             "outlinewidth": 0,
             "ticks": ""
            },
            "colorscale": [
             [
              0,
              "#0d0887"
             ],
             [
              0.1111111111111111,
              "#46039f"
             ],
             [
              0.2222222222222222,
              "#7201a8"
             ],
             [
              0.3333333333333333,
              "#9c179e"
             ],
             [
              0.4444444444444444,
              "#bd3786"
             ],
             [
              0.5555555555555556,
              "#d8576b"
             ],
             [
              0.6666666666666666,
              "#ed7953"
             ],
             [
              0.7777777777777778,
              "#fb9f3a"
             ],
             [
              0.8888888888888888,
              "#fdca26"
             ],
             [
              1,
              "#f0f921"
             ]
            ],
            "type": "surface"
           }
          ],
          "table": [
           {
            "cells": {
             "fill": {
              "color": "#EBF0F8"
             },
             "line": {
              "color": "white"
             }
            },
            "header": {
             "fill": {
              "color": "#C8D4E3"
             },
             "line": {
              "color": "white"
             }
            },
            "type": "table"
           }
          ]
         },
         "layout": {
          "annotationdefaults": {
           "arrowcolor": "#2a3f5f",
           "arrowhead": 0,
           "arrowwidth": 1
          },
          "autotypenumbers": "strict",
          "coloraxis": {
           "colorbar": {
            "outlinewidth": 0,
            "ticks": ""
           }
          },
          "colorscale": {
           "diverging": [
            [
             0,
             "#8e0152"
            ],
            [
             0.1,
             "#c51b7d"
            ],
            [
             0.2,
             "#de77ae"
            ],
            [
             0.3,
             "#f1b6da"
            ],
            [
             0.4,
             "#fde0ef"
            ],
            [
             0.5,
             "#f7f7f7"
            ],
            [
             0.6,
             "#e6f5d0"
            ],
            [
             0.7,
             "#b8e186"
            ],
            [
             0.8,
             "#7fbc41"
            ],
            [
             0.9,
             "#4d9221"
            ],
            [
             1,
             "#276419"
            ]
           ],
           "sequential": [
            [
             0,
             "#0d0887"
            ],
            [
             0.1111111111111111,
             "#46039f"
            ],
            [
             0.2222222222222222,
             "#7201a8"
            ],
            [
             0.3333333333333333,
             "#9c179e"
            ],
            [
             0.4444444444444444,
             "#bd3786"
            ],
            [
             0.5555555555555556,
             "#d8576b"
            ],
            [
             0.6666666666666666,
             "#ed7953"
            ],
            [
             0.7777777777777778,
             "#fb9f3a"
            ],
            [
             0.8888888888888888,
             "#fdca26"
            ],
            [
             1,
             "#f0f921"
            ]
           ],
           "sequentialminus": [
            [
             0,
             "#0d0887"
            ],
            [
             0.1111111111111111,
             "#46039f"
            ],
            [
             0.2222222222222222,
             "#7201a8"
            ],
            [
             0.3333333333333333,
             "#9c179e"
            ],
            [
             0.4444444444444444,
             "#bd3786"
            ],
            [
             0.5555555555555556,
             "#d8576b"
            ],
            [
             0.6666666666666666,
             "#ed7953"
            ],
            [
             0.7777777777777778,
             "#fb9f3a"
            ],
            [
             0.8888888888888888,
             "#fdca26"
            ],
            [
             1,
             "#f0f921"
            ]
           ]
          },
          "colorway": [
           "#636efa",
           "#EF553B",
           "#00cc96",
           "#ab63fa",
           "#FFA15A",
           "#19d3f3",
           "#FF6692",
           "#B6E880",
           "#FF97FF",
           "#FECB52"
          ],
          "font": {
           "color": "#2a3f5f"
          },
          "geo": {
           "bgcolor": "white",
           "lakecolor": "white",
           "landcolor": "#E5ECF6",
           "showlakes": true,
           "showland": true,
           "subunitcolor": "white"
          },
          "hoverlabel": {
           "align": "left"
          },
          "hovermode": "closest",
          "mapbox": {
           "style": "light"
          },
          "paper_bgcolor": "white",
          "plot_bgcolor": "#E5ECF6",
          "polar": {
           "angularaxis": {
            "gridcolor": "white",
            "linecolor": "white",
            "ticks": ""
           },
           "bgcolor": "#E5ECF6",
           "radialaxis": {
            "gridcolor": "white",
            "linecolor": "white",
            "ticks": ""
           }
          },
          "scene": {
           "xaxis": {
            "backgroundcolor": "#E5ECF6",
            "gridcolor": "white",
            "gridwidth": 2,
            "linecolor": "white",
            "showbackground": true,
            "ticks": "",
            "zerolinecolor": "white"
           },
           "yaxis": {
            "backgroundcolor": "#E5ECF6",
            "gridcolor": "white",
            "gridwidth": 2,
            "linecolor": "white",
            "showbackground": true,
            "ticks": "",
            "zerolinecolor": "white"
           },
           "zaxis": {
            "backgroundcolor": "#E5ECF6",
            "gridcolor": "white",
            "gridwidth": 2,
            "linecolor": "white",
            "showbackground": true,
            "ticks": "",
            "zerolinecolor": "white"
           }
          },
          "shapedefaults": {
           "line": {
            "color": "#2a3f5f"
           }
          },
          "ternary": {
           "aaxis": {
            "gridcolor": "white",
            "linecolor": "white",
            "ticks": ""
           },
           "baxis": {
            "gridcolor": "white",
            "linecolor": "white",
            "ticks": ""
           },
           "bgcolor": "#E5ECF6",
           "caxis": {
            "gridcolor": "white",
            "linecolor": "white",
            "ticks": ""
           }
          },
          "title": {
           "x": 0.05
          },
          "xaxis": {
           "automargin": true,
           "gridcolor": "white",
           "linecolor": "white",
           "ticks": "",
           "title": {
            "standoff": 15
           },
           "zerolinecolor": "white",
           "zerolinewidth": 2
          },
          "yaxis": {
           "automargin": true,
           "gridcolor": "white",
           "linecolor": "white",
           "ticks": "",
           "title": {
            "standoff": 15
           },
           "zerolinecolor": "white",
           "zerolinewidth": 2
          }
         }
        },
        "title": {
         "text": "Cantidad de Vuelos Origen-Destino (Rutas Internacionales)"
        },
        "width": 500
       }
      }
     },
     "metadata": {},
     "output_type": "display_data"
    }
   ],
   "source": [
    "dfsi = df[['SIGLAORI','SIGLADES','Fecha-I']][df.TIPOVUELO=='I'].groupby(['SIGLAORI','SIGLADES'])[['Fecha-I']].count().reset_index().rename(columns={'Fecha-I':'vuelos_qty'}).sort_values('vuelos_qty',ascending=False).reset_index(drop=True)\n",
    "dfsi['vuel_p'] = dfsi.vuelos_qty/dfsi.vuelos_qty.sum()*100\n",
    "\n",
    "lab_i=dfsi.SIGLAORI.unique().tolist()+dfsi.SIGLADES.unique().tolist()\n",
    "position_list_i = [*range(0,len(dfsi.SIGLAORI.unique().tolist()+dfsi.SIGLADES.unique().tolist()))]\n",
    "sou_i = [lab_i.index(x) for x in dfsi.SIGLAORI]\n",
    "dest_i = [lab_i.index(x) for x in dfsi.SIGLADES]\n",
    "pal_i = sns.color_palette('tab20').as_hex()*4\n",
    "color_i = [str(pal_i[x]) for x in range(0,len(lab_i))]\n",
    "\n",
    "fig = go.Figure(data=[go.Sankey(\n",
    "  valueformat = \".0f\",\n",
    "  valuesuffix = \" vuelos\",\n",
    "    node = dict(\n",
    "      pad = 15,\n",
    "      thickness = 20,\n",
    "      line = dict(color = \"black\", width = 0.5),\n",
    "      label = lab_i,\n",
    "      color = color_i\n",
    "    ),\n",
    "    link = dict(\n",
    "      source = sou_i, # indices correspond to labels, eg A1, A2, A1, B1, ...\n",
    "      target = dest_i,\n",
    "      value = dfsi.vuelos_qty.values.tolist(),\n",
    "      customdata = dfsi.vuel_p.values.tolist(),\n",
    "      hovertemplate=\"%{customdata:.2f} %\"\n",
    "  ))])\n",
    "\n",
    "fig.update_layout(title_text=\"Cantidad de Vuelos Origen-Destino (Rutas Internacionales)\", font_size=10,width=500, height=900)\n",
    "fig.show()"
   ]
  },
  {
   "cell_type": "markdown",
   "metadata": {},
   "source": [
    "##### Comentarios\n",
    "* Todos los vuelos internacionales tienen como Origen la Ciudad de Santiago\n",
    "* Los 10 principales destinos internacionales se encuentran en el continente Americano. El destino intercontinental con más vuelos es Madrid, con 894 vuelos (2.86% de la muestra).\n",
    "* Las tres principales rutas internacionales son Santiago-Buenos Aires (6335 vuelos, 20.28%), Santiago-Lima (5270 vuelos, 16.87%) y Santiago-Sao Paulo (3569 vuelos, 11.42%)."
   ]
  },
  {
   "cell_type": "markdown",
   "metadata": {},
   "source": [
    "#### Cantidad de vuelos de acuerdo a temporalidad de operación de vuelo"
   ]
  },
  {
   "cell_type": "code",
   "execution_count": 9,
   "metadata": {},
   "outputs": [],
   "source": [
    "df['hora_o'] = df['Fecha-O'].apply(lambda x: int(datetime.strptime(x,'%Y-%m-%d %H:%M:%S').strftime('%H')))"
   ]
  },
  {
   "cell_type": "code",
   "execution_count": 10,
   "metadata": {},
   "outputs": [
    {
     "data": {
      "image/png": "[encoded data removed]",
      "text/plain": [
       "<Figure size 1296x432 with 3 Axes>"
      ]
     },
     "metadata": {
      "needs_background": "light"
     },
     "output_type": "display_data"
    }
   ],
   "source": [
    "fig, axes = plt.subplots(nrows=1,ncols=3,figsize=(18,6))\n",
    "axes = axes.flatten()\n",
    "\n",
    "ax = axes[0]\n",
    "ax.set_title('Cantidad de vuelos por hora de salida')\n",
    "sns.barplot(x=df.hora_o.value_counts().sort_index().index,y=df.hora_o.value_counts().sort_index(),ax=ax,color='#7DD1D8',edgecolor='k')\n",
    "#sns.distplot(df.hora_o,bins=24,hist_kws=dict(edgecolor=\"black\"),ax=ax)\n",
    "\n",
    "ax = axes[1]\n",
    "ax.set_title('Cantidad de vuelos por mes del año')\n",
    "sns.barplot(x=df.MES.value_counts().index,y=df.MES.value_counts(),ax=ax,color='#D87D7D',edgecolor='k')\n",
    "#ax.tick_params(axis='x', labelrotation = 90)\n",
    "\n",
    "ax = axes[2]\n",
    "ax.set_title('Cantidad de vuelos por día de la semana')\n",
    "sns.barplot(x=df.DIANOM.value_counts().index,y=df.DIANOM.value_counts(),ax=ax,color='#D77DD8',edgecolor='k')\n",
    "\n",
    "fig.tight_layout()"
   ]
  },
  {
   "cell_type": "markdown",
   "metadata": {},
   "source": [
    "##### Comentarios\n",
    "* Se observa gran concentración de vuelos entre las 6-9am, 2-4pm y 6-8pm; mientras que el horario con menos vuelos es 2-4am.\n",
    "* Los meses con mayor cantidad de vuelos son Diciembre y Enero, y se puede decir que la temporada más baja está desde Abril hasta inicios de Julio.\n",
    "* El día más concurrido es el Viernes, mientras que el Sábado es el que posee menor cantidad de vuelos."
   ]
  },
  {
   "cell_type": "markdown",
   "metadata": {},
   "source": [
    "#### Existen varias columnas que muestran datos programados y pueden compararse con los datos de operación"
   ]
  },
  {
   "cell_type": "code",
   "execution_count": 11,
   "metadata": {},
   "outputs": [
    {
     "name": "stdout",
     "output_type": "stream",
     "text": [
      "Comparaciones Datos de Vuelos Programados vs. Operación\n",
      "Número de Vuelo\n",
      "True     97.287629\n",
      "False     2.712371\n",
      "dtype: float64\n",
      "\n",
      "Código Ciudad Origen\n",
      "True    100.0\n",
      "dtype: float64\n",
      "\n",
      "Código Ciudad Destino\n",
      "True     99.958948\n",
      "False     0.041052\n",
      "dtype: float64\n",
      "\n",
      "Código Aerolínea\n",
      "True     72.628508\n",
      "False    27.371492\n",
      "dtype: float64\n",
      "\n"
     ]
    }
   ],
   "source": [
    "print('Comparaciones Datos de Vuelos Programados vs. Operación')\n",
    "\n",
    "for i,j in zip(['Vlo','Ori','Des','Emp'],['Número de Vuelo','Código Ciudad Origen','Código Ciudad Destino','Código Aerolínea']):\n",
    "    print(j)\n",
    "    comparison_io = df[i+'-I']==df[i+'-O']\n",
    "    print(comparison_io.value_counts(normalize=True)*100)\n",
    "    print('')"
   ]
  },
  {
   "cell_type": "code",
   "execution_count": 12,
   "metadata": {},
   "outputs": [
    {
     "data": {
      "text/html": [
       "<div>\n",
       "<style scoped>\n",
       "    .dataframe tbody tr th:only-of-type {\n",
       "        vertical-align: middle;\n",
       "    }\n",
       "\n",
       "    .dataframe tbody tr th {\n",
       "        vertical-align: top;\n",
       "    }\n",
       "\n",
       "    .dataframe thead th {\n",
       "        text-align: right;\n",
       "    }\n",
       "</style>\n",
       "<table border=\"1\" class=\"dataframe\">\n",
       "  <thead>\n",
       "    <tr style=\"text-align: right;\">\n",
       "      <th></th>\n",
       "      <th>Emp-I</th>\n",
       "      <th>Emp-O</th>\n",
       "      <th>OPERA</th>\n",
       "      <th>cnt</th>\n",
       "    </tr>\n",
       "  </thead>\n",
       "  <tbody>\n",
       "    <tr>\n",
       "      <th>0</th>\n",
       "      <td>LAN</td>\n",
       "      <td>LXP</td>\n",
       "      <td>Grupo LATAM</td>\n",
       "      <td>14549</td>\n",
       "    </tr>\n",
       "    <tr>\n",
       "      <th>1</th>\n",
       "      <td>LAW</td>\n",
       "      <td>JMR</td>\n",
       "      <td>Latin American Wings</td>\n",
       "      <td>1547</td>\n",
       "    </tr>\n",
       "    <tr>\n",
       "      <th>2</th>\n",
       "      <td>LAN</td>\n",
       "      <td>LPE</td>\n",
       "      <td>Grupo LATAM</td>\n",
       "      <td>1210</td>\n",
       "    </tr>\n",
       "    <tr>\n",
       "      <th>3</th>\n",
       "      <td>LAN</td>\n",
       "      <td>DSM</td>\n",
       "      <td>Grupo LATAM</td>\n",
       "      <td>491</td>\n",
       "    </tr>\n",
       "    <tr>\n",
       "      <th>4</th>\n",
       "      <td>LAN</td>\n",
       "      <td>LNE</td>\n",
       "      <td>Grupo LATAM</td>\n",
       "      <td>373</td>\n",
       "    </tr>\n",
       "    <tr>\n",
       "      <th>5</th>\n",
       "      <td>AVA</td>\n",
       "      <td>LRC</td>\n",
       "      <td>Avianca</td>\n",
       "      <td>265</td>\n",
       "    </tr>\n",
       "    <tr>\n",
       "      <th>6</th>\n",
       "      <td>QFU</td>\n",
       "      <td>QFA</td>\n",
       "      <td>Qantas Airways</td>\n",
       "      <td>195</td>\n",
       "    </tr>\n",
       "    <tr>\n",
       "      <th>7</th>\n",
       "      <td>LAW</td>\n",
       "      <td>56R</td>\n",
       "      <td>Latin American Wings</td>\n",
       "      <td>17</td>\n",
       "    </tr>\n",
       "    <tr>\n",
       "      <th>8</th>\n",
       "      <td>LAW</td>\n",
       "      <td>48O</td>\n",
       "      <td>Latin American Wings</td>\n",
       "      <td>10</td>\n",
       "    </tr>\n",
       "    <tr>\n",
       "      <th>9</th>\n",
       "      <td>ARG</td>\n",
       "      <td>AUT</td>\n",
       "      <td>Aerolineas Argentinas</td>\n",
       "      <td>5</td>\n",
       "    </tr>\n",
       "    <tr>\n",
       "      <th>10</th>\n",
       "      <td>TAM</td>\n",
       "      <td>LAP</td>\n",
       "      <td>Grupo LATAM</td>\n",
       "      <td>3</td>\n",
       "    </tr>\n",
       "    <tr>\n",
       "      <th>11</th>\n",
       "      <td>AUT</td>\n",
       "      <td>ARG</td>\n",
       "      <td>Austral</td>\n",
       "      <td>2</td>\n",
       "    </tr>\n",
       "    <tr>\n",
       "      <th>12</th>\n",
       "      <td>AVA</td>\n",
       "      <td>TPU</td>\n",
       "      <td>Avianca</td>\n",
       "      <td>2</td>\n",
       "    </tr>\n",
       "  </tbody>\n",
       "</table>\n",
       "</div>"
      ],
      "text/plain": [
       "   Emp-I Emp-O                  OPERA    cnt\n",
       "0    LAN   LXP            Grupo LATAM  14549\n",
       "1    LAW   JMR   Latin American Wings   1547\n",
       "2    LAN   LPE            Grupo LATAM   1210\n",
       "3    LAN   DSM            Grupo LATAM    491\n",
       "4    LAN   LNE            Grupo LATAM    373\n",
       "5    AVA   LRC                Avianca    265\n",
       "6    QFU   QFA         Qantas Airways    195\n",
       "7    LAW   56R   Latin American Wings     17\n",
       "8    LAW   48O   Latin American Wings     10\n",
       "9    ARG   AUT  Aerolineas Argentinas      5\n",
       "10   TAM   LAP            Grupo LATAM      3\n",
       "11   AUT   ARG                Austral      2\n",
       "12   AVA   TPU                Avianca      2"
      ]
     },
     "execution_count": 12,
     "metadata": {},
     "output_type": "execute_result"
    }
   ],
   "source": [
    "df[df['Emp-I']!=df['Emp-O']][['Emp-I','Emp-O','OPERA','SIGLAORI']]\\\n",
    "    .groupby(['Emp-I','Emp-O','OPERA'])[['SIGLAORI']].count().reset_index().rename(columns={'SIGLAORI':'cnt'})\\\n",
    "        .sort_values('cnt',ascending=False).reset_index(drop=True)"
   ]
  },
  {
   "cell_type": "markdown",
   "metadata": {},
   "source": [
    "##### Comentarios\n",
    "* En los datos programados vs. operación se pueden observar pequeñas inconsistencias de datos para el número de vuelo y el código de ciudad destino. De esto se puede asumir que por alguna circunstancia el número de vuelo puede variar, o que pueden existir escenarios que puedan cambiar el destino del vuelo de acuerdo al planeado (por ejemplo, condiciones climatológicas).\n",
    "* Los datos de código ciudad origen programado vs. operación son 100% consistentes.\n",
    "* Con respecto a los datos del código de aerolínea programado respecto al de operación se tiene una inconsistencia para el 27.37% de los registros. Se puede observar que la mayoría de estos registros se presentan para Grupo Latam, cuya operación es reemplazada por LXP (Latam Express). Aun así, hay gran cantidad de registros (miles), que sustituyen a la operación planificada de Latam."
   ]
  },
  {
   "cell_type": "markdown",
   "metadata": {},
   "source": [
    "## 2. Genera las columnas adicionales y luego expórtelas en un archivo synthetic_features.csv :\n",
    "* temporada_alta : 1 si Fecha-I está entre 15-Dic y 3-Mar, o 15-Jul y 31-Jul, o 11-Sep y 30-Sep, 0 si no.\n",
    "* dif_min : diferencia en minutos entre Fecha-O y Fecha-I .\n",
    "* atraso_15 : 1 si dif_min > 15, 0 si no.\n",
    "* periodo_dia : mañana (entre 5:00 y 11:59), tarde (entre 12:00 y 18:59) y noche (entre 19:00 y 4:59), en base a Fecha-I ."
   ]
  },
  {
   "cell_type": "markdown",
   "metadata": {},
   "source": [
    "#### Se generan columnas con features requeridos"
   ]
  },
  {
   "cell_type": "code",
   "execution_count": 13,
   "metadata": {},
   "outputs": [
    {
     "data": {
      "text/html": [
       "<div>\n",
       "<style scoped>\n",
       "    .dataframe tbody tr th:only-of-type {\n",
       "        vertical-align: middle;\n",
       "    }\n",
       "\n",
       "    .dataframe tbody tr th {\n",
       "        vertical-align: top;\n",
       "    }\n",
       "\n",
       "    .dataframe thead th {\n",
       "        text-align: right;\n",
       "    }\n",
       "</style>\n",
       "<table border=\"1\" class=\"dataframe\">\n",
       "  <thead>\n",
       "    <tr style=\"text-align: right;\">\n",
       "      <th></th>\n",
       "      <th>Fecha-I</th>\n",
       "      <th>Vlo-I</th>\n",
       "      <th>Ori-I</th>\n",
       "      <th>Des-I</th>\n",
       "      <th>Emp-I</th>\n",
       "      <th>Fecha-O</th>\n",
       "      <th>Vlo-O</th>\n",
       "      <th>Ori-O</th>\n",
       "      <th>Des-O</th>\n",
       "      <th>Emp-O</th>\n",
       "      <th>DIA</th>\n",
       "      <th>MES</th>\n",
       "      <th>AÑO</th>\n",
       "      <th>DIANOM</th>\n",
       "      <th>TIPOVUELO</th>\n",
       "      <th>OPERA</th>\n",
       "      <th>SIGLAORI</th>\n",
       "      <th>SIGLADES</th>\n",
       "      <th>hora_o</th>\n",
       "      <th>temporada_alta</th>\n",
       "    </tr>\n",
       "  </thead>\n",
       "  <tbody>\n",
       "    <tr>\n",
       "      <th>0</th>\n",
       "      <td>2017-01-01 23:30:00</td>\n",
       "      <td>226</td>\n",
       "      <td>SCEL</td>\n",
       "      <td>KMIA</td>\n",
       "      <td>AAL</td>\n",
       "      <td>2017-01-01 23:33:00</td>\n",
       "      <td>226</td>\n",
       "      <td>SCEL</td>\n",
       "      <td>KMIA</td>\n",
       "      <td>AAL</td>\n",
       "      <td>1</td>\n",
       "      <td>1</td>\n",
       "      <td>2017</td>\n",
       "      <td>Domingo</td>\n",
       "      <td>I</td>\n",
       "      <td>American Airlines</td>\n",
       "      <td>Santiago</td>\n",
       "      <td>Miami</td>\n",
       "      <td>23</td>\n",
       "      <td>1</td>\n",
       "    </tr>\n",
       "    <tr>\n",
       "      <th>1</th>\n",
       "      <td>2017-01-02 23:30:00</td>\n",
       "      <td>226</td>\n",
       "      <td>SCEL</td>\n",
       "      <td>KMIA</td>\n",
       "      <td>AAL</td>\n",
       "      <td>2017-01-02 23:39:00</td>\n",
       "      <td>226</td>\n",
       "      <td>SCEL</td>\n",
       "      <td>KMIA</td>\n",
       "      <td>AAL</td>\n",
       "      <td>2</td>\n",
       "      <td>1</td>\n",
       "      <td>2017</td>\n",
       "      <td>Lunes</td>\n",
       "      <td>I</td>\n",
       "      <td>American Airlines</td>\n",
       "      <td>Santiago</td>\n",
       "      <td>Miami</td>\n",
       "      <td>23</td>\n",
       "      <td>1</td>\n",
       "    </tr>\n",
       "    <tr>\n",
       "      <th>2</th>\n",
       "      <td>2017-01-03 23:30:00</td>\n",
       "      <td>226</td>\n",
       "      <td>SCEL</td>\n",
       "      <td>KMIA</td>\n",
       "      <td>AAL</td>\n",
       "      <td>2017-01-03 23:39:00</td>\n",
       "      <td>226</td>\n",
       "      <td>SCEL</td>\n",
       "      <td>KMIA</td>\n",
       "      <td>AAL</td>\n",
       "      <td>3</td>\n",
       "      <td>1</td>\n",
       "      <td>2017</td>\n",
       "      <td>Martes</td>\n",
       "      <td>I</td>\n",
       "      <td>American Airlines</td>\n",
       "      <td>Santiago</td>\n",
       "      <td>Miami</td>\n",
       "      <td>23</td>\n",
       "      <td>1</td>\n",
       "    </tr>\n",
       "    <tr>\n",
       "      <th>3</th>\n",
       "      <td>2017-01-04 23:30:00</td>\n",
       "      <td>226</td>\n",
       "      <td>SCEL</td>\n",
       "      <td>KMIA</td>\n",
       "      <td>AAL</td>\n",
       "      <td>2017-01-04 23:33:00</td>\n",
       "      <td>226</td>\n",
       "      <td>SCEL</td>\n",
       "      <td>KMIA</td>\n",
       "      <td>AAL</td>\n",
       "      <td>4</td>\n",
       "      <td>1</td>\n",
       "      <td>2017</td>\n",
       "      <td>Miercoles</td>\n",
       "      <td>I</td>\n",
       "      <td>American Airlines</td>\n",
       "      <td>Santiago</td>\n",
       "      <td>Miami</td>\n",
       "      <td>23</td>\n",
       "      <td>1</td>\n",
       "    </tr>\n",
       "    <tr>\n",
       "      <th>4</th>\n",
       "      <td>2017-01-05 23:30:00</td>\n",
       "      <td>226</td>\n",
       "      <td>SCEL</td>\n",
       "      <td>KMIA</td>\n",
       "      <td>AAL</td>\n",
       "      <td>2017-01-05 23:28:00</td>\n",
       "      <td>226</td>\n",
       "      <td>SCEL</td>\n",
       "      <td>KMIA</td>\n",
       "      <td>AAL</td>\n",
       "      <td>5</td>\n",
       "      <td>1</td>\n",
       "      <td>2017</td>\n",
       "      <td>Jueves</td>\n",
       "      <td>I</td>\n",
       "      <td>American Airlines</td>\n",
       "      <td>Santiago</td>\n",
       "      <td>Miami</td>\n",
       "      <td>23</td>\n",
       "      <td>1</td>\n",
       "    </tr>\n",
       "  </tbody>\n",
       "</table>\n",
       "</div>"
      ],
      "text/plain": [
       "              Fecha-I Vlo-I Ori-I Des-I Emp-I             Fecha-O Vlo-O Ori-O  \\\n",
       "0 2017-01-01 23:30:00   226  SCEL  KMIA   AAL 2017-01-01 23:33:00   226  SCEL   \n",
       "1 2017-01-02 23:30:00   226  SCEL  KMIA   AAL 2017-01-02 23:39:00   226  SCEL   \n",
       "2 2017-01-03 23:30:00   226  SCEL  KMIA   AAL 2017-01-03 23:39:00   226  SCEL   \n",
       "3 2017-01-04 23:30:00   226  SCEL  KMIA   AAL 2017-01-04 23:33:00   226  SCEL   \n",
       "4 2017-01-05 23:30:00   226  SCEL  KMIA   AAL 2017-01-05 23:28:00   226  SCEL   \n",
       "\n",
       "  Des-O Emp-O  DIA  MES   AÑO     DIANOM TIPOVUELO              OPERA  \\\n",
       "0  KMIA   AAL    1    1  2017    Domingo         I  American Airlines   \n",
       "1  KMIA   AAL    2    1  2017      Lunes         I  American Airlines   \n",
       "2  KMIA   AAL    3    1  2017     Martes         I  American Airlines   \n",
       "3  KMIA   AAL    4    1  2017  Miercoles         I  American Airlines   \n",
       "4  KMIA   AAL    5    1  2017     Jueves         I  American Airlines   \n",
       "\n",
       "   SIGLAORI SIGLADES  hora_o  temporada_alta  \n",
       "0  Santiago    Miami      23               1  \n",
       "1  Santiago    Miami      23               1  \n",
       "2  Santiago    Miami      23               1  \n",
       "3  Santiago    Miami      23               1  \n",
       "4  Santiago    Miami      23               1  "
      ]
     },
     "execution_count": 13,
     "metadata": {},
     "output_type": "execute_result"
    }
   ],
   "source": [
    "# Se cambian formatos de columnas a datetime\n",
    "df['Fecha-I'] = pd.to_datetime(df['Fecha-I'],format='%Y-%m-%d %H:%M:%S')\n",
    "df['Fecha-O'] = pd.to_datetime(df['Fecha-O'],format='%Y-%m-%d %H:%M:%S')\n",
    "\n",
    "# Se genera feature temporada_alta\n",
    "df['temporada_alta'] = df.apply(lambda x: 1 if \\\n",
    "                                            (x['Fecha-I'].replace(year=1900)>=datetime.strptime('15-12','%d-%m')) or \\\n",
    "                                            (x['Fecha-I'].replace(year=1900)<=datetime.strptime('03-03','%d-%m')) or \\\n",
    "                                            (x['Fecha-I'].replace(year=1900)>=datetime.strptime('15-07','%d-%m') and x['Fecha-I'].replace(year=1900)<=datetime.strptime('31-07','%d-%m')) or \\\n",
    "                                            (x['Fecha-I'].replace(year=1900)>=datetime.strptime('11-09','%d-%m') and x['Fecha-I'].replace(year=1900)<=datetime.strptime('30-09','%d-%m')) \n",
    "                                            else 0,axis=1)\n",
    "\n",
    "df.head()"
   ]
  },
  {
   "cell_type": "code",
   "execution_count": 14,
   "metadata": {},
   "outputs": [
    {
     "name": "stdout",
     "output_type": "stream",
     "text": [
      "1 1\n",
      "1 2\n",
      "1 3\n",
      "1 4\n",
      "1 5\n",
      "1 6\n",
      "1 7\n",
      "1 8\n",
      "1 9\n",
      "1 10\n",
      "1 11\n",
      "1 12\n",
      "1 13\n",
      "1 14\n",
      "1 15\n",
      "1 16\n",
      "1 17\n",
      "1 18\n",
      "1 19\n",
      "1 20\n",
      "1 21\n",
      "1 22\n",
      "1 23\n",
      "1 24\n",
      "1 25\n",
      "1 26\n",
      "1 27\n",
      "1 28\n",
      "1 29\n",
      "1 30\n",
      "1 31\n",
      "2 1\n",
      "2 2\n",
      "2 3\n",
      "2 4\n",
      "2 5\n",
      "2 6\n",
      "2 7\n",
      "2 8\n",
      "2 9\n",
      "2 10\n",
      "2 11\n",
      "2 12\n",
      "2 13\n",
      "2 14\n",
      "2 15\n",
      "2 16\n",
      "2 17\n",
      "2 18\n",
      "2 19\n",
      "2 20\n",
      "2 21\n",
      "2 22\n",
      "2 23\n",
      "2 24\n",
      "2 25\n",
      "2 26\n",
      "2 27\n",
      "2 28\n",
      "3 1\n",
      "3 2\n",
      "3 3\n",
      "7 15\n",
      "7 16\n",
      "7 17\n",
      "7 18\n",
      "7 19\n",
      "7 20\n",
      "7 21\n",
      "7 22\n",
      "7 23\n",
      "7 24\n",
      "7 25\n",
      "7 26\n",
      "7 27\n",
      "7 28\n",
      "7 29\n",
      "7 30\n",
      "9 11\n",
      "9 12\n",
      "9 13\n",
      "9 14\n",
      "9 15\n",
      "9 16\n",
      "9 17\n",
      "9 18\n",
      "9 19\n",
      "9 20\n",
      "9 21\n",
      "9 22\n",
      "9 23\n",
      "9 24\n",
      "9 25\n",
      "9 26\n",
      "9 27\n",
      "9 28\n",
      "9 29\n",
      "9 30\n",
      "12 15\n",
      "12 16\n",
      "12 17\n",
      "12 18\n",
      "12 19\n",
      "12 20\n",
      "12 21\n",
      "12 22\n",
      "12 23\n",
      "12 24\n",
      "12 25\n",
      "12 26\n",
      "12 27\n",
      "12 28\n",
      "12 29\n",
      "12 30\n",
      "12 31\n"
     ]
    }
   ],
   "source": [
    "#Verificación de resultado\n",
    "check = df[['MES','DIA']][df.temporada_alta==1].groupby(['MES','DIA']).last().reset_index().sort_values(['MES','DIA'])\n",
    "\n",
    "for index,row in check.iterrows():\n",
    "    print(row['MES'],row['DIA'])"
   ]
  },
  {
   "cell_type": "code",
   "execution_count": 15,
   "metadata": {},
   "outputs": [
    {
     "data": {
      "text/html": [
       "<div>\n",
       "<style scoped>\n",
       "    .dataframe tbody tr th:only-of-type {\n",
       "        vertical-align: middle;\n",
       "    }\n",
       "\n",
       "    .dataframe tbody tr th {\n",
       "        vertical-align: top;\n",
       "    }\n",
       "\n",
       "    .dataframe thead th {\n",
       "        text-align: right;\n",
       "    }\n",
       "</style>\n",
       "<table border=\"1\" class=\"dataframe\">\n",
       "  <thead>\n",
       "    <tr style=\"text-align: right;\">\n",
       "      <th></th>\n",
       "      <th>Fecha-I</th>\n",
       "      <th>Vlo-I</th>\n",
       "      <th>Ori-I</th>\n",
       "      <th>Des-I</th>\n",
       "      <th>Emp-I</th>\n",
       "      <th>Fecha-O</th>\n",
       "      <th>Vlo-O</th>\n",
       "      <th>Ori-O</th>\n",
       "      <th>Des-O</th>\n",
       "      <th>Emp-O</th>\n",
       "      <th>...</th>\n",
       "      <th>DIANOM</th>\n",
       "      <th>TIPOVUELO</th>\n",
       "      <th>OPERA</th>\n",
       "      <th>SIGLAORI</th>\n",
       "      <th>SIGLADES</th>\n",
       "      <th>hora_o</th>\n",
       "      <th>temporada_alta</th>\n",
       "      <th>dif_min</th>\n",
       "      <th>atraso_15</th>\n",
       "      <th>periodo_dia</th>\n",
       "    </tr>\n",
       "  </thead>\n",
       "  <tbody>\n",
       "    <tr>\n",
       "      <th>0</th>\n",
       "      <td>2017-01-01 23:30:00</td>\n",
       "      <td>226</td>\n",
       "      <td>SCEL</td>\n",
       "      <td>KMIA</td>\n",
       "      <td>AAL</td>\n",
       "      <td>2017-01-01 23:33:00</td>\n",
       "      <td>226</td>\n",
       "      <td>SCEL</td>\n",
       "      <td>KMIA</td>\n",
       "      <td>AAL</td>\n",
       "      <td>...</td>\n",
       "      <td>Domingo</td>\n",
       "      <td>I</td>\n",
       "      <td>American Airlines</td>\n",
       "      <td>Santiago</td>\n",
       "      <td>Miami</td>\n",
       "      <td>23</td>\n",
       "      <td>1</td>\n",
       "      <td>3.0</td>\n",
       "      <td>0</td>\n",
       "      <td>noche</td>\n",
       "    </tr>\n",
       "    <tr>\n",
       "      <th>1</th>\n",
       "      <td>2017-01-02 23:30:00</td>\n",
       "      <td>226</td>\n",
       "      <td>SCEL</td>\n",
       "      <td>KMIA</td>\n",
       "      <td>AAL</td>\n",
       "      <td>2017-01-02 23:39:00</td>\n",
       "      <td>226</td>\n",
       "      <td>SCEL</td>\n",
       "      <td>KMIA</td>\n",
       "      <td>AAL</td>\n",
       "      <td>...</td>\n",
       "      <td>Lunes</td>\n",
       "      <td>I</td>\n",
       "      <td>American Airlines</td>\n",
       "      <td>Santiago</td>\n",
       "      <td>Miami</td>\n",
       "      <td>23</td>\n",
       "      <td>1</td>\n",
       "      <td>9.0</td>\n",
       "      <td>0</td>\n",
       "      <td>noche</td>\n",
       "    </tr>\n",
       "    <tr>\n",
       "      <th>2</th>\n",
       "      <td>2017-01-03 23:30:00</td>\n",
       "      <td>226</td>\n",
       "      <td>SCEL</td>\n",
       "      <td>KMIA</td>\n",
       "      <td>AAL</td>\n",
       "      <td>2017-01-03 23:39:00</td>\n",
       "      <td>226</td>\n",
       "      <td>SCEL</td>\n",
       "      <td>KMIA</td>\n",
       "      <td>AAL</td>\n",
       "      <td>...</td>\n",
       "      <td>Martes</td>\n",
       "      <td>I</td>\n",
       "      <td>American Airlines</td>\n",
       "      <td>Santiago</td>\n",
       "      <td>Miami</td>\n",
       "      <td>23</td>\n",
       "      <td>1</td>\n",
       "      <td>9.0</td>\n",
       "      <td>0</td>\n",
       "      <td>noche</td>\n",
       "    </tr>\n",
       "    <tr>\n",
       "      <th>3</th>\n",
       "      <td>2017-01-04 23:30:00</td>\n",
       "      <td>226</td>\n",
       "      <td>SCEL</td>\n",
       "      <td>KMIA</td>\n",
       "      <td>AAL</td>\n",
       "      <td>2017-01-04 23:33:00</td>\n",
       "      <td>226</td>\n",
       "      <td>SCEL</td>\n",
       "      <td>KMIA</td>\n",
       "      <td>AAL</td>\n",
       "      <td>...</td>\n",
       "      <td>Miercoles</td>\n",
       "      <td>I</td>\n",
       "      <td>American Airlines</td>\n",
       "      <td>Santiago</td>\n",
       "      <td>Miami</td>\n",
       "      <td>23</td>\n",
       "      <td>1</td>\n",
       "      <td>3.0</td>\n",
       "      <td>0</td>\n",
       "      <td>noche</td>\n",
       "    </tr>\n",
       "    <tr>\n",
       "      <th>4</th>\n",
       "      <td>2017-01-05 23:30:00</td>\n",
       "      <td>226</td>\n",
       "      <td>SCEL</td>\n",
       "      <td>KMIA</td>\n",
       "      <td>AAL</td>\n",
       "      <td>2017-01-05 23:28:00</td>\n",
       "      <td>226</td>\n",
       "      <td>SCEL</td>\n",
       "      <td>KMIA</td>\n",
       "      <td>AAL</td>\n",
       "      <td>...</td>\n",
       "      <td>Jueves</td>\n",
       "      <td>I</td>\n",
       "      <td>American Airlines</td>\n",
       "      <td>Santiago</td>\n",
       "      <td>Miami</td>\n",
       "      <td>23</td>\n",
       "      <td>1</td>\n",
       "      <td>-2.0</td>\n",
       "      <td>0</td>\n",
       "      <td>noche</td>\n",
       "    </tr>\n",
       "  </tbody>\n",
       "</table>\n",
       "<p>5 rows × 23 columns</p>\n",
       "</div>"
      ],
      "text/plain": [
       "              Fecha-I Vlo-I Ori-I Des-I Emp-I             Fecha-O Vlo-O Ori-O  \\\n",
       "0 2017-01-01 23:30:00   226  SCEL  KMIA   AAL 2017-01-01 23:33:00   226  SCEL   \n",
       "1 2017-01-02 23:30:00   226  SCEL  KMIA   AAL 2017-01-02 23:39:00   226  SCEL   \n",
       "2 2017-01-03 23:30:00   226  SCEL  KMIA   AAL 2017-01-03 23:39:00   226  SCEL   \n",
       "3 2017-01-04 23:30:00   226  SCEL  KMIA   AAL 2017-01-04 23:33:00   226  SCEL   \n",
       "4 2017-01-05 23:30:00   226  SCEL  KMIA   AAL 2017-01-05 23:28:00   226  SCEL   \n",
       "\n",
       "  Des-O Emp-O  ...     DIANOM  TIPOVUELO              OPERA  SIGLAORI  \\\n",
       "0  KMIA   AAL  ...    Domingo          I  American Airlines  Santiago   \n",
       "1  KMIA   AAL  ...      Lunes          I  American Airlines  Santiago   \n",
       "2  KMIA   AAL  ...     Martes          I  American Airlines  Santiago   \n",
       "3  KMIA   AAL  ...  Miercoles          I  American Airlines  Santiago   \n",
       "4  KMIA   AAL  ...     Jueves          I  American Airlines  Santiago   \n",
       "\n",
       "  SIGLADES hora_o temporada_alta dif_min  atraso_15  periodo_dia  \n",
       "0    Miami     23              1     3.0          0        noche  \n",
       "1    Miami     23              1     9.0          0        noche  \n",
       "2    Miami     23              1     9.0          0        noche  \n",
       "3    Miami     23              1     3.0          0        noche  \n",
       "4    Miami     23              1    -2.0          0        noche  \n",
       "\n",
       "[5 rows x 23 columns]"
      ]
     },
     "execution_count": 15,
     "metadata": {},
     "output_type": "execute_result"
    }
   ],
   "source": [
    "# Se generan feature dif_min, atraso_15 y periodo_dia\n",
    "df['dif_min'] = (df['Fecha-O']-df['Fecha-I']).dt.total_seconds()/60\n",
    "\n",
    "df['atraso_15'] = np.where(df.dif_min>15,1,0)\n",
    "\n",
    "#periodo_dia : mañana (entre 5:00 y 11:59), tarde (entre 12:00 y 18:59) y noche (entre 19:00 y 4:59), en base a Fecha-I .\n",
    "df['periodo_dia'] = np.where((df.hora_o>=5) & (df.hora_o<12),'mañana',\n",
    "                        np.where((df.hora_o>=12) & (df.hora_o<19),'tarde',\n",
    "                            np.where(((df.hora_o>=19) & (df.hora_o<=23))| ((df.hora_o>=0) & (df.hora_o<5)),'noche','error')))\n",
    "df.head()"
   ]
  },
  {
   "cell_type": "code",
   "execution_count": 16,
   "metadata": {},
   "outputs": [
    {
     "data": {
      "text/plain": [
       "tarde     25256\n",
       "mañana    24991\n",
       "noche     17959\n",
       "Name: periodo_dia, dtype: int64"
      ]
     },
     "execution_count": 16,
     "metadata": {},
     "output_type": "execute_result"
    }
   ],
   "source": [
    "# Verificación\n",
    "df.periodo_dia.value_counts()"
   ]
  },
  {
   "cell_type": "markdown",
   "metadata": {},
   "source": [
    "#### Generación de archivo"
   ]
  },
  {
   "cell_type": "code",
   "execution_count": 17,
   "metadata": {},
   "outputs": [],
   "source": [
    "df.to_csv('./synthetic_features.csv')"
   ]
  },
  {
   "cell_type": "markdown",
   "metadata": {},
   "source": [
    "## 3. ¿Cómo se compone la tasa de atraso por destino, aerolínea, mes del año, día de la semana, temporada, tipo de vuelo? ¿Qué variables esperarías que más influyeran en predecir atrasos?\n",
    "\n",
    "Se efectúan visualizaciones para observar cómo se comporta la tasa de atraso respecto a las distintas variables:"
   ]
  },
  {
   "cell_type": "code",
   "execution_count": 18,
   "metadata": {},
   "outputs": [
    {
     "data": {
      "image/png": "[encoded data removed]",
      "text/plain": [
       "<Figure size 1152x1152 with 10 Axes>"
      ]
     },
     "metadata": {
      "needs_background": "light"
     },
     "output_type": "display_data"
    }
   ],
   "source": [
    "fig, axes = plt.subplots(nrows=3,ncols=3,figsize=(16,16))\n",
    "axes = axes.flatten()\n",
    "\n",
    "ax = axes[0]\n",
    "sns.barplot(x=df.atraso_15.value_counts().index.map({0:'A tiempo',1:'Atrasado'}),y=df.atraso_15.value_counts(),ax=ax,palette=['#8FF573','#F57373'],edgecolor='k',label=True)\n",
    "ax2=ax.twinx()\n",
    "sns.barplot(x=df.atraso_15.value_counts(normalize=True).index.map({0:'A tiempo',1:'Atrasado'}),y=df.atraso_15.value_counts(normalize=True)*100,ax=ax2,palette=['#8FF573','#F57373'],edgecolor='k')\n",
    "ax.set_title('a) Cantidad y Proporción de vuelos según condición de atraso')\n",
    "ax.set_ylabel('Cantidad vuelos')\n",
    "ax2.set_ylabel('% vuelos')\n",
    "\n",
    "ax = axes[1]\n",
    "y1 = df[df.atraso_15==1].OPERA.value_counts()/df.OPERA.value_counts()\n",
    "y1 = y1.sort_values(ascending=False)*100\n",
    "sns.barplot(x=y1.index,y=y1,ax=ax,color='#7DD1D8',edgecolor='k')\n",
    "ax.tick_params(axis='x', labelrotation = 90)\n",
    "ax.set_title('b) Tasa de atraso por aerolínea')\n",
    "ax.set_ylabel('%')\n",
    "\n",
    "ax = axes[2]\n",
    "y4 = df[df.atraso_15==1].TIPOVUELO.value_counts()/df.TIPOVUELO.value_counts()\n",
    "y4 = y4.sort_values(ascending=False)*100\n",
    "sns.barplot(x=y4.index.map({'I':'Internacional','N':'Nacional'}),y=y4,ax=ax,edgecolor='k',palette=['#E7C862','#7DA8D8'])\n",
    "ax.set_title('c) Tasa de atraso por Tipo de Vuelo')\n",
    "ax.set_ylabel('%')\n",
    "\n",
    "ax = axes[3]\n",
    "y3 = df[df.atraso_15==1].DIANOM.value_counts()/df.DIANOM.value_counts()\n",
    "y3 = y3.sort_values(ascending=False)*100\n",
    "sns.barplot(x=y3.index,y=y3,ax=ax,color='#D77DD8',edgecolor='k')\n",
    "ax.set_title('d) Tasa de atraso por Día de la Semana')\n",
    "ax.set_ylabel('%')\n",
    "\n",
    "ax = axes[4]\n",
    "y2= df[df.atraso_15==1].MES.value_counts()/df.MES.value_counts()*100\n",
    "sns.barplot(x=y2.index,y=y2,ax=ax,color='#D87D7D',edgecolor='k')\n",
    "ax.set_title('e) Tasa de atraso por Mes del Año')\n",
    "ax.set_ylabel('%')\n",
    "\n",
    "ax = axes[5]\n",
    "y5 = df[df.atraso_15==1].temporada_alta.value_counts()/df.temporada_alta.value_counts()\n",
    "y5 = y5.sort_values(ascending=False)*100\n",
    "sns.barplot(x=y5.index.map({0:'Temporada Baja',1:'Temporada Alta'}),y=y5,ax=ax,edgecolor='k',palette=['#E65342','#42E6DC'])\n",
    "ax.set_title('f) Tasa de atraso por Temporada')\n",
    "ax.set_ylabel('%')\n",
    "\n",
    "ax = axes[6]\n",
    "y6 = df[df.atraso_15==1].periodo_dia.value_counts()/df.periodo_dia.value_counts()\n",
    "y6 = y6.sort_values(ascending=False)*100\n",
    "sns.barplot(x=y6.index,y=y6,ax=ax,edgecolor='k',palette=['#817F7E','#924274','#A6BB2F'])\n",
    "ax.set_title('g) Tasa de atraso por Período del Día')\n",
    "ax.set_ylabel('%')\n",
    "\n",
    "ax = axes[7]\n",
    "sns.barplot(x=df.periodo_dia.value_counts().index,y=df.periodo_dia.value_counts(),ax=ax,edgecolor='k',palette=['#924274','#A6BB2F','#817F7E'])\n",
    "ax.set_title('h) Cantidad de vuelos por Período del Día')\n",
    "ax.set_ylabel('Qty')\n",
    "\n",
    "ax = axes[8]\n",
    "sns.barplot(x=df.temporada_alta.value_counts().index.map({0:'Temporada Baja',1:'Temporada Alta'}),y=df.temporada_alta.value_counts(),ax=ax,palette=['#42E6DC','#E65342'],edgecolor='k')\n",
    "ax.set_title('i) Cantidad de vuelos por Temporada')\n",
    "ax.set_ylabel('Qty')\n",
    "\n",
    "\n",
    "fig.tight_layout()"
   ]
  },
  {
   "cell_type": "markdown",
   "metadata": {},
   "source": [
    "#### Primeros comentarios tasa de atraso:\n",
    "\n",
    "***a) Cantidad y Proporción de vuelos según condición de atraso:*** De los 68206 vuelos totales, hay más de 50000 vuelos que despegan a tiempo, con respecto a más de 10000 que despegan en atraso. Los vuelos en atraso representan casi un 20% del dataset.\n",
    "\n",
    "***b) Tasa de atraso por aerolínea:*** Se puede observar que hay aerolíneas que presentan una tasa relevante de atraso, sin embargo, se conoce del punto 1 que Sky y Latam componen el 80% de la muestra, por lo que habría que comparar la tasa de atraso con la cantidad de vuelos.\n",
    "\n",
    "***c) Tasa de atraso por Tipo de Vuelo:*** Se Observa que los vuelos Internacionales tienen una tasa de atraso de alrededor del 22%, mientras que los vuelos nacionales de un 15%. Esto podría ser un punto diferenciador ya que podría decirse que hay cierto balance entra vuelos nacionales e internacionales.\n",
    "\n",
    "***d) Tasa de atraso por Día de la Semana:*** Los días que componen mayor tasa de atraso son los Viernes, Lunes y Jueves (alrededor de un 20%). Mientras que el Sábado y Domingo son los días con menor tasa de atraso, con alrededor de un 15%.\n",
    "\n",
    "***e) Tasa de atraso por Mes del Año:*** Se puede resaltar que los meses de Diciembre y Julio presentan una tasa de atraso visualmente más alta con respecto al resto, con valores de alrededor de 30% y 25% respectivamente.\n",
    "\n",
    "***f) Tasa de atraso por Temporada:*** Se observa tasa de atraso similar dentre vuelos en temporada alta y baja con valores mayores a 17.5% y menores a 20%.\n",
    "\n",
    "***g) Tasa de atraso por Período del Día:*** Los vuelos nocturnos presentan una tasa mayor al 20%, mientras que los vuelos en la tarde una tasa ligeramente menor al 20%. Es destacable que los vuelos en la mañana tienen tasa de atraso menor al 15%.\n",
    "\n",
    "***h) Cantidad de vuelos por Período del Día:*** La cantidad de vuelos en mañana y tarde son similares, mientras que en la noche despegan alrededor de 5000 vuelos menos con respecto a los tiempos mencionados.\n",
    "\n",
    "***i) Cantidad de vuelos por Temporada:*** Los vuelos en temporada baja corresponden a alrededor de un 2/3 de la muestra, mientras que el 1/3 restante corresponden a vuelos en temporada alta."
   ]
  },
  {
   "cell_type": "markdown",
   "metadata": {},
   "source": [
    "De la visualización \"b\", surge la necesidad de poder comparar la tasa de atraso respecto a la cantidad de valores por cada categoría, para evitar dar importancia a features en donde sólo se diferencien clases que presenten una minoría en la muestra total.\n",
    "\n",
    "Se procede a efectuar visualizaciones de Cantidad de vuelos y tasa de atraso por:\n",
    "* Destinos nacionales e internacionales\n",
    "* Aerolínea\n",
    "* Día del año\n",
    "* Hora del día"
   ]
  },
  {
   "cell_type": "code",
   "execution_count": 19,
   "metadata": {},
   "outputs": [
    {
     "data": {
      "image/png": "[encoded data removed]",
      "text/plain": [
       "<Figure size 1440x864 with 4 Axes>"
      ]
     },
     "metadata": {
      "needs_background": "light"
     },
     "output_type": "display_data"
    }
   ],
   "source": [
    "fig, axes = plt.subplots(nrows=2,ncols=1,figsize=(20,12))\n",
    "axes = axes.flatten()\n",
    "\n",
    "ax = axes[0]\n",
    "#y4 = y4.sort_values(ascending=False)*100\n",
    "#sns.barplot(x=y4.index,y=y4,ax=ax,color='#7DA8D8',edgecolor='k')\n",
    "sns.countplot(data=df[(df.TIPOVUELO=='N')],x='SIGLADES',hue='atraso_15',\\\n",
    "                    order=df[(df.TIPOVUELO=='N')].SIGLADES.value_counts().index,ax=ax,palette=['#8FF573','#F57373'])\n",
    "legend_labels, _= ax.get_legend_handles_labels()\n",
    "ax.legend(legend_labels, ['A tiempo','Atrasado'], bbox_to_anchor=(0.3,1), title='Condición Atraso')\n",
    "\n",
    "ax2 = ax.twinx()\n",
    "y0 = 100*df[(df.atraso_15==1)&(df.TIPOVUELO=='N')].SIGLADES.value_counts()/df[df.TIPOVUELO=='N'].SIGLADES.value_counts()\n",
    "y0 = y0.reindex(df[(df.TIPOVUELO=='N')].SIGLADES.value_counts().index)\n",
    "sns.scatterplot(x=y0.index,y=y0,ax=ax2,color='k',s=100,label='Tasa de atraso')\n",
    "sns.lineplot(x=y0.index,y=y0,ax=ax2,color='k')\n",
    "ax.tick_params(axis='x', labelrotation = 90)\n",
    "ax2.set_ylim([0,100])\n",
    "ax.set_title('Cantidad de vuelos y tasa de atraso \\npor ciudad Destino (Rutas Nacionales)')\n",
    "ax.set_ylabel('Cantidad de vuelos')\n",
    "ax2.set_ylabel('Tasa de atraso %')\n",
    "ax.set_xlabel('')\n",
    "ax2.grid(color='grey',linestyle='-',alpha=0.3)\n",
    "\n",
    "\n",
    "\n",
    "ax = axes[1]\n",
    "# y5 = y5.sort_values(ascending=False)*100\n",
    "# sns.barplot(x=y5.index,y=y5,ax=ax,color='#E7C862',edgecolor='k')\n",
    "sns.countplot(data=df[(df.TIPOVUELO=='I')],x='SIGLADES',hue='atraso_15',\\\n",
    "                    order=df[(df.TIPOVUELO=='I')].SIGLADES.value_counts().index,ax=ax,palette=['#8FF573','#F57373'])\n",
    "legend_labels, _= ax.get_legend_handles_labels()\n",
    "ax.legend(legend_labels, ['A tiempo','Atrasado'], bbox_to_anchor=(0.17,1), title='Condición Atraso')\n",
    "\n",
    "ax2 = ax.twinx()\n",
    "y1 = 100*df[(df.atraso_15==1)&(df.TIPOVUELO=='I')].SIGLADES.value_counts()/df[df.TIPOVUELO=='I'].SIGLADES.value_counts()\n",
    "y1 = y1.reindex(df[(df.TIPOVUELO=='I')].SIGLADES.value_counts().index)\n",
    "sns.scatterplot(x=y1.index,y=y1,ax=ax2,color='k',s=100,label='Tasa de atraso')\n",
    "sns.lineplot(x=y1.index,y=y1,ax=ax2,color='k')\n",
    "ax.tick_params(axis='x', labelrotation = 90)\n",
    "ax2.set_ylim([0,102])\n",
    "ax.set_title('Cantidad de vuelos y tasa de atraso \\npor ciudad Destino (Rutas Internacionales)')\n",
    "ax.set_ylabel('Cantidad de vuelos')\n",
    "ax2.set_ylabel('Tasa de atraso %')\n",
    "ax.set_xlabel('')\n",
    "ax2.grid(color='grey',linestyle='-',alpha=0.3)\n",
    "\n",
    "\n",
    "fig.tight_layout()"
   ]
  },
  {
   "cell_type": "markdown",
   "metadata": {},
   "source": [
    "* Vuelos Nacionales: La tasa de atraso se presenta alrededor del 20% para la mayoría de los destinos, excepotuando los dos menos frecuentes.\n",
    "* Vuelos Internacionales: Se observa gran variación de la tasa de atraso para estos destinos. Sin embargo, hay muchos destinos que tienen poca cantidad de vuelos y esto afecta el porcentaje de atraso."
   ]
  },
  {
   "cell_type": "code",
   "execution_count": 20,
   "metadata": {},
   "outputs": [
    {
     "data": {
      "image/png": "[encoded data removed]",
      "text/plain": [
       "<Figure size 1440x432 with 4 Axes>"
      ]
     },
     "metadata": {
      "needs_background": "light"
     },
     "output_type": "display_data"
    }
   ],
   "source": [
    "fig, axes = plt.subplots(nrows=1,ncols=2,figsize=(20,6))\n",
    "axes = axes.flatten()\n",
    "\n",
    "\n",
    "ax = axes[0]\n",
    "sns.countplot(data=df[(df.OPERA=='Grupo LATAM')|(df.OPERA=='Sky Airline')],x='OPERA',hue='atraso_15',\\\n",
    "                    order=df[(df.OPERA=='Grupo LATAM')|(df.OPERA=='Sky Airline')].OPERA.value_counts().index,ax=ax,palette=['#8FF573','#F57373'])\n",
    "legend_labels, _= ax.get_legend_handles_labels()\n",
    "ax.legend(legend_labels, ['A tiempo','Atrasado'], loc='upper center', title='Condición Atraso')\n",
    "\n",
    "ax2 = ax.twinx()\n",
    "y0 = 100*df[(df.atraso_15==1)&((df.OPERA=='Grupo LATAM')|(df.OPERA=='Sky Airline'))].OPERA.value_counts()/df[((df.OPERA=='Grupo LATAM')|(df.OPERA=='Sky Airline'))].OPERA.value_counts()\n",
    "y0 = y0.reindex(df[(df.OPERA=='Grupo LATAM')|(df.OPERA=='Sky Airline')].OPERA.value_counts().index)\n",
    "sns.scatterplot(x=y0.index,y=y0,ax=ax2,color='k',s=100,label='Tasa de atraso')\n",
    "sns.lineplot(x=y0.index,y=y0,ax=ax2,color='k')\n",
    "ax2.set_ylim([0,100])\n",
    "ax.tick_params(axis='x', labelrotation = 90)\n",
    "ax.set_ylabel('Cantidad de vuelos')\n",
    "ax2.set_ylabel('Tasa de atraso %')\n",
    "ax.set_title('Cantidad y tasa de atraso de Vuelos \\npara aerolíneas que componen el 80% de la muestra')\n",
    "ax.set_xlabel('')\n",
    "ax2.grid(color='grey',linestyle='-',alpha=0.3)\n",
    "\n",
    "\n",
    "ax = axes[1]\n",
    "sns.countplot(data=df[(df.OPERA!='Grupo LATAM')&(df.OPERA!='Sky Airline')],x='OPERA',hue='atraso_15',\\\n",
    "                    order=df[(df.OPERA!='Grupo LATAM')&(df.OPERA!='Sky Airline')].OPERA.value_counts().index,ax=ax,palette=['#8FF573','#F57373'])\n",
    "legend_labels, _= ax.get_legend_handles_labels()\n",
    "ax.legend(legend_labels, ['A tiempo','Atrasado'], loc='upper center', title='Condición Atraso')\n",
    "ax.tick_params(axis='x', labelrotation = 90)\n",
    "\n",
    "ax2 = ax.twinx()\n",
    "y1 = 100*df[(df.atraso_15==1)&((df.OPERA!='Grupo LATAM')&(df.OPERA!='Sky Airline'))].OPERA.value_counts()/df[((df.OPERA!='Grupo LATAM')&(df.OPERA!='Sky Airline'))].OPERA.value_counts()\n",
    "y1 = y1.reindex(df[(df.OPERA!='Grupo LATAM')&(df.OPERA!='Sky Airline')].OPERA.value_counts().index)\n",
    "sns.scatterplot(x=y1.index,y=y1,ax=ax2,color='k',s=100,label='Tasa de atraso')\n",
    "sns.lineplot(x=y1.index,y=y1,ax=ax2,color='k')\n",
    "ax2.set_ylim([0,100])\n",
    "ax.tick_params(axis='x', labelrotation = 90)\n",
    "ax.set_ylabel('Cantidad de vuelos')\n",
    "ax2.set_ylabel('Tasa de atraso %')\n",
    "ax.set_title('Cantidad y tasa de atraso de Vuelos \\npara aerolíneas que componen el resto de la muestra')\n",
    "ax.set_xlabel('')\n",
    "ax2.grid(color='grey',linestyle='-',alpha=0.3)\n",
    "\n",
    "\n",
    "\n",
    "fig.tight_layout()"
   ]
  },
  {
   "cell_type": "markdown",
   "metadata": {},
   "source": [
    "* Para las aerolíneas que componen el 80% de la muestra (Latam y Sky), se presenta una tasa de atraso cercana al 20%, muy similar al valor general del atraso.\n",
    "* Para las demás aerolíneas se presentan más variaciones en la tasa de atraso, aun así, similar al caso de los viajes internacionales, algunas tasas pueden verse sesgadas por la poca cantidad de datos."
   ]
  },
  {
   "cell_type": "code",
   "execution_count": 22,
   "metadata": {},
   "outputs": [
    {
     "data": {
      "image/png": "[encoded data removed]",
      "text/plain": [
       "<Figure size 864x288 with 2 Axes>"
      ]
     },
     "metadata": {
      "needs_background": "light"
     },
     "output_type": "display_data"
    }
   ],
   "source": [
    "fig, axes = plt.subplots(1,1,figsize=(12,4))\n",
    "\n",
    "ax = axes\n",
    "sns.countplot(data=df,x='DIA',hue='atraso_15',\\\n",
    "                    #order=df.DIA.value_counts().index,\n",
    "                    ax=ax,palette=['#8FF573','#F57373'])\n",
    "legend_labels, _= ax.get_legend_handles_labels()\n",
    "ax.legend(legend_labels, ['A tiempo','Atrasado'], loc='upper center', title='Condición Atraso')\n",
    "ax.tick_params(axis='x', labelrotation = 90)\n",
    "\n",
    "ax2 = ax.twinx()\n",
    "ax2.set_ylim([0,100])\n",
    "y0= df[df.atraso_15==1].DIA.value_counts()/df.DIA.value_counts()*100\n",
    "#y0 = y0.reindex(df.DIA.value_counts().index)\n",
    "sns.scatterplot(x=y0.index,y=y0,ax=ax2,color='k',s=100,label='Tasa de atraso')\n",
    "sns.lineplot(x=y0.index,y=y0,ax=ax2,color='k')\n",
    "\n",
    "ax.set_title('Cantidad de vuelos y tasa de atraso por Día del Año')\n",
    "ax.set_ylabel('Cantidad de vuelos')\n",
    "ax2.set_ylabel('Tasa de atraso %')\n",
    "ax.set_xlabel('')\n",
    "ax2.grid(color='grey',linestyle='-',alpha=0.3)\n"
   ]
  },
  {
   "cell_type": "markdown",
   "metadata": {},
   "source": [
    "* Se observa mayor tasa de atraso en los vuelos a mitad de mes, aun así la variación es muy pequeña y los valores rondan el 20%, que representa la tasa de atraso general."
   ]
  },
  {
   "cell_type": "code",
   "execution_count": 23,
   "metadata": {},
   "outputs": [
    {
     "data": {
      "image/png": "[encoded data removed]",
      "text/plain": [
       "<Figure size 864x288 with 2 Axes>"
      ]
     },
     "metadata": {
      "needs_background": "light"
     },
     "output_type": "display_data"
    }
   ],
   "source": [
    "fig, axes = plt.subplots(1,1,figsize=(12,4))\n",
    "\n",
    "ax = axes\n",
    "sns.countplot(data=df,x='hora_o',hue='atraso_15',\\\n",
    "                    #order=df.DIA.value_counts().index,\n",
    "                    ax=ax,palette=['#8FF573','#F57373'])\n",
    "legend_labels, _= ax.get_legend_handles_labels()\n",
    "ax.legend(legend_labels, ['A tiempo','Atrasado'], loc='upper center', title='Condición Atraso')\n",
    "ax.tick_params(axis='x', labelrotation = 90)\n",
    "\n",
    "ax2 = ax.twinx()\n",
    "ax2.set_ylim([0,40])\n",
    "y0= df[df.atraso_15==1].hora_o.value_counts()/df.hora_o.value_counts()*100\n",
    "#y0 = y0.reindex(df.DIA.value_counts().index)\n",
    "sns.scatterplot(x=y0.index,y=y0,ax=ax2,color='k',s=100,label='Tasa de atraso')\n",
    "sns.lineplot(x=y0.index,y=y0,ax=ax2,color='k')\n",
    "\n",
    "ax.set_title('Cantidad de vuelos y Tasa de atraso por Hora del dia')\n",
    "ax.set_ylabel('Cantidad de vuelos')\n",
    "ax2.set_ylabel('Tasa de atraso %')\n",
    "ax.set_xlabel('')\n",
    "ax2.grid(color='grey',linestyle='-',alpha=0.3)\n"
   ]
  },
  {
   "cell_type": "markdown",
   "metadata": {},
   "source": [
    "* Se aprecia que la tasa de atraso tiene grandes fluctuaciones respecto a la hora de salida de los vuelos en las primeras horas de la mañana, para luego estabilizarse alrededor del 20-30%, que de igual forma, presenta fluctiaciones."
   ]
  },
  {
   "cell_type": "markdown",
   "metadata": {},
   "source": [
    "#### ¿Qué variables esperarías que más influyeran en predecir atrasos?\n",
    "Las variables que esperaría tengan más influencia en predecir atrasos son aquellas que más puedan separar el target. Sin embargo, ninguna de las variables separa el target directamente, sino que alguna de sus categorías acumulan mayores o menores tasas de atraso. Dado esto, esperaría que las variables más influyentes son aquellas cuyas categorías tienen más fluctuación en la tasa de atraso, como lo son: **destino, hora del día y aerolínea.**"
   ]
  },
  {
   "cell_type": "markdown",
   "metadata": {},
   "source": [
    "## 4. Entrena uno o varios modelos (usando el/los algoritmo(s) que prefieras) para estimar la probabilidad de atraso de un vuelo.Siéntete libre de generar variables adicionales y/o complementar con variables externas."
   ]
  },
  {
   "cell_type": "code",
   "execution_count": null,
   "metadata": {},
   "outputs": [],
   "source": []
  },
  {
   "cell_type": "code",
   "execution_count": null,
   "metadata": {},
   "outputs": [],
   "source": []
  },
  {
   "cell_type": "markdown",
   "metadata": {},
   "source": []
  },
  {
   "cell_type": "markdown",
   "metadata": {},
   "source": []
  },
  {
   "cell_type": "markdown",
   "metadata": {},
   "source": []
  },
  {
   "cell_type": "markdown",
   "metadata": {},
   "source": []
  },
  {
   "cell_type": "markdown",
   "metadata": {},
   "source": []
  }
 ],
 "metadata": {
  "kernelspec": {
   "display_name": "Python 3.9.7 ('base')",
   "language": "python",
   "name": "python3"
  },
  "language_info": {
   "codemirror_mode": {
    "name": "ipython",
    "version": 3
   },
   "file_extension": ".py",
   "mimetype": "text/x-python",
   "name": "python",
   "nbconvert_exporter": "python",
   "pygments_lexer": "ipython3",
   "version": "3.9.7"
  },
  "orig_nbformat": 4,
  "vscode": {
   "interpreter": {
    "hash": "b35e8c538f71d48c3a99fea87bca445b36702761a71766eb7a5b765382915468"
   }
  }
 },
 "nbformat": 4,
 "nbformat_minor": 2
}
